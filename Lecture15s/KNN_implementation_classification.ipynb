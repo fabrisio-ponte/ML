{
 "cells": [
  {
   "cell_type": "markdown",
   "id": "9ed0599f-c6e9-456b-ac96-e5a021c4a922",
   "metadata": {},
   "source": [
    "# Implement KNN from scratch in Python with Numpy"
   ]
  },
  {
   "cell_type": "code",
   "execution_count": 70,
   "id": "9476a776-811a-4bc2-85d6-3a4b8c4b873b",
   "metadata": {},
   "outputs": [],
   "source": [
    "import numpy as np\n",
    "import matplotlib.pyplot as plt\n",
    "import pandas as pd\n",
    "from sklearn.model_selection import train_test_split"
   ]
  },
  {
   "cell_type": "markdown",
   "id": "71144861-e2e9-45cb-9236-6ee2019186a0",
   "metadata": {},
   "source": [
    "```\n",
    "class MyKNNClassifier:\n",
    "    def __init__(self, n_neighbors):\n",
    "        self.n_neighbors=n_neighbors\n",
    "        self.X_train=None\n",
    "        self.Y_train=None\n",
    "    def fit(self, X, Y):\n",
    "        pass\n",
    "    def predict(self, X):\n",
    "        pass\n",
    "```"
   ]
  },
  {
   "cell_type": "code",
   "execution_count": 73,
   "id": "b3b5a581-e6cd-430c-8f7c-ce106fe303b2",
   "metadata": {},
   "outputs": [],
   "source": [
    "fruits = pd.read_csv('fruit.csv')\n",
    "X = fruits[['width', 'height', 'color_score']].values\n",
    "Y = fruits['fruit_label'].values\n",
    "X_train, X_test, Y_train, Y_test = train_test_split(X, Y, test_size=0.2, random_state=0)"
   ]
  },
  {
   "cell_type": "code",
   "execution_count": 75,
   "id": "b14ec2df-1119-46b2-a705-7d3fc2cf933d",
   "metadata": {},
   "outputs": [
    {
     "data": {
      "text/plain": [
       "[np.int64(1), np.int64(4)]"
      ]
     },
     "execution_count": 75,
     "metadata": {},
     "output_type": "execute_result"
    }
   ],
   "source": [
    "[Y_train.min(), Y_train.max()]"
   ]
  },
  {
   "cell_type": "code",
   "execution_count": 77,
   "id": "263be3f7-6fda-41fc-8a22-43cee32c3f6c",
   "metadata": {},
   "outputs": [
    {
     "data": {
      "text/plain": [
       "[np.int64(1), np.int64(4)]"
      ]
     },
     "execution_count": 77,
     "metadata": {},
     "output_type": "execute_result"
    }
   ],
   "source": [
    "[Y_test.min(), Y_test.max()]"
   ]
  },
  {
   "cell_type": "code",
   "execution_count": 79,
   "id": "e534657c-6a25-4c51-b927-4ae448f9122d",
   "metadata": {},
   "outputs": [],
   "source": [
    "Y_train=Y_train-1\n",
    "Y_test=Y_test-1"
   ]
  },
  {
   "cell_type": "code",
   "execution_count": 81,
   "id": "e7964fff-d9ab-4eb9-a00e-097c11597724",
   "metadata": {},
   "outputs": [
    {
     "data": {
      "text/plain": [
       "[np.int64(0), np.int64(3)]"
      ]
     },
     "execution_count": 81,
     "metadata": {},
     "output_type": "execute_result"
    }
   ],
   "source": [
    "[Y_train.min(), Y_train.max()]"
   ]
  },
  {
   "cell_type": "code",
   "execution_count": 103,
   "id": "532cda09-3ce2-4f90-9bcc-dbc5bc7cb37b",
   "metadata": {},
   "outputs": [
    {
     "data": {
      "text/plain": [
       "[np.int64(0), np.int64(3)]"
      ]
     },
     "execution_count": 103,
     "metadata": {},
     "output_type": "execute_result"
    }
   ],
   "source": [
    "[Y_test.min(), Y_test.max()]"
   ]
  },
  {
   "cell_type": "code",
   "execution_count": 105,
   "id": "608e6f95-3a00-40ba-924d-1ed50cbe0e3f",
   "metadata": {},
   "outputs": [
    {
     "data": {
      "text/plain": [
       "np.int64(4)"
      ]
     },
     "execution_count": 105,
     "metadata": {},
     "output_type": "execute_result"
    }
   ],
   "source": [
    "num_classes=max(Y_train+1)\n",
    "num_classes"
   ]
  },
  {
   "cell_type": "markdown",
   "id": "3df42721-6cb6-4d38-9a83-655f92b42c19",
   "metadata": {},
   "source": [
    "### implement a function to find the K nearest neighbors\n",
    "note: the code below is not the most efficient way to find the K nearest neighbors \\\n",
    "the purpose here is to enhance our programming sills in Numpy"
   ]
  },
  {
   "cell_type": "code",
   "execution_count": 108,
   "id": "28c35762-ed7a-43ef-99b6-7dc0a3a8fdc3",
   "metadata": {},
   "outputs": [
    {
     "data": {
      "text/plain": [
       "(47, 3)"
      ]
     },
     "execution_count": 108,
     "metadata": {},
     "output_type": "execute_result"
    }
   ],
   "source": [
    "X_train.shape"
   ]
  },
  {
   "cell_type": "code",
   "execution_count": 37,
   "id": "729a6687-9f12-47f9-ae6e-176a06d8b58f",
   "metadata": {},
   "outputs": [
    {
     "data": {
      "text/plain": [
       "(12, 3)"
      ]
     },
     "execution_count": 37,
     "metadata": {},
     "output_type": "execute_result"
    }
   ],
   "source": [
    "X_test.shape"
   ]
  },
  {
   "cell_type": "code",
   "execution_count": 39,
   "id": "7a6b3bc1-2d92-439a-a529-ecf937b47ef7",
   "metadata": {},
   "outputs": [],
   "source": [
    "#In the training set, find the nearest K neighbours of the sample X_test[0]"
   ]
  },
  {
   "cell_type": "code",
   "execution_count": 41,
   "id": "6715817b-3a55-4166-bc0e-2ee15bf3789f",
   "metadata": {},
   "outputs": [
    {
     "data": {
      "text/plain": [
       "array([9.6 , 9.2 , 0.74])"
      ]
     },
     "execution_count": 41,
     "metadata": {},
     "output_type": "execute_result"
    }
   ],
   "source": [
    "x0=X_test[0]\n",
    "x0"
   ]
  },
  {
   "cell_type": "code",
   "execution_count": 43,
   "id": "1b2febee-a851-4b9a-97c0-2c57ae647ce8",
   "metadata": {
    "scrolled": true
   },
   "outputs": [
    {
     "data": {
      "text/plain": [
       "array([3.02365673, 2.23662692, 2.37065392, 3.125124  , 2.46989878,\n",
       "       6.44087727, 2.75907593, 3.25631694, 3.83276662, 3.16305232])"
      ]
     },
     "execution_count": 43,
     "metadata": {},
     "output_type": "execute_result"
    }
   ],
   "source": [
    "distance_array=np.zeros(X_train.shape[0])\n",
    "for n in range(0, X_train.shape[0]):\n",
    "    dist_n=np.sqrt(((x0-X_train[n])**2).sum())\n",
    "    distance_array[n]=dist_n\n",
    "distance_array[0:10]"
   ]
  },
  {
   "cell_type": "code",
   "execution_count": 45,
   "id": "20da6221-e4c2-4581-8b43-9b8f110550a7",
   "metadata": {},
   "outputs": [
    {
     "data": {
      "text/plain": [
       "array([3.02365673, 2.23662692, 2.37065392, 3.125124  , 2.46989878,\n",
       "       6.44087727, 2.75907593, 3.25631694, 3.83276662, 3.16305232])"
      ]
     },
     "execution_count": 45,
     "metadata": {},
     "output_type": "execute_result"
    }
   ],
   "source": [
    "distance_array=np.sqrt(((x0.reshape(1,-1)-X_train)**2).sum(axis=1))\n",
    "distance_array[0:10]"
   ]
  },
  {
   "cell_type": "code",
   "execution_count": 47,
   "id": "e3453d29-8698-49d8-b342-a042e0e23adc",
   "metadata": {},
   "outputs": [],
   "source": [
    "sorted_index_array=np.argsort(distance_array)"
   ]
  },
  {
   "cell_type": "code",
   "execution_count": 49,
   "id": "2d67cd01-0d4c-4cf3-b29e-97771757bd66",
   "metadata": {},
   "outputs": [
    {
     "data": {
      "text/plain": [
       "np.float64(0.40012498047485145)"
      ]
     },
     "execution_count": 49,
     "metadata": {},
     "output_type": "execute_result"
    }
   ],
   "source": [
    "distance_array[sorted_index_array[0]]"
   ]
  },
  {
   "cell_type": "code",
   "execution_count": 51,
   "id": "b57b714e-d0b3-4410-ab0c-f6b19699b5c6",
   "metadata": {},
   "outputs": [
    {
     "data": {
      "text/plain": [
       "np.float64(6.440877269440863)"
      ]
     },
     "execution_count": 51,
     "metadata": {},
     "output_type": "execute_result"
    }
   ],
   "source": [
    "distance_array[sorted_index_array[-1]]"
   ]
  },
  {
   "cell_type": "code",
   "execution_count": 53,
   "id": "32d405e9-3933-45cc-a7b8-1af061024afe",
   "metadata": {},
   "outputs": [
    {
     "data": {
      "text/plain": [
       "array([24, 33, 14, 17,  1])"
      ]
     },
     "execution_count": 53,
     "metadata": {},
     "output_type": "execute_result"
    }
   ],
   "source": [
    "K=5\n",
    "K_nearest_neighbours_x0=sorted_index_array[0:K]\n",
    "K_nearest_neighbours_x0"
   ]
  },
  {
   "cell_type": "code",
   "execution_count": 55,
   "id": "529cacac-5ecc-4e96-b308-a1143ab8a0eb",
   "metadata": {},
   "outputs": [
    {
     "data": {
      "text/plain": [
       "array([2, 2, 2, 2, 2])"
      ]
     },
     "execution_count": 55,
     "metadata": {},
     "output_type": "execute_result"
    }
   ],
   "source": [
    "Y_train[K_nearest_neighbours_x0]"
   ]
  },
  {
   "cell_type": "code",
   "execution_count": 57,
   "id": "37d6ee6f-80e8-458a-be51-b7c8cb03d9be",
   "metadata": {},
   "outputs": [
    {
     "data": {
      "text/plain": [
       "array([0., 0., 5., 0.])"
      ]
     },
     "execution_count": 57,
     "metadata": {},
     "output_type": "execute_result"
    }
   ],
   "source": [
    "# majority voting among the K nearest neighbours of x0\n",
    "counter=np.zeros(num_classes)\n",
    "for k in range(0, K):\n",
    "    class_id=Y_train[K_nearest_neighbours_x0][k]\n",
    "    counter[class_id]+=1 # one vote for class_id\n",
    "counter"
   ]
  },
  {
   "cell_type": "code",
   "execution_count": 59,
   "id": "907bb5f0-e9ef-428f-ac7b-3b9dbcbdb64c",
   "metadata": {},
   "outputs": [
    {
     "data": {
      "text/plain": [
       "np.int64(2)"
      ]
     },
     "execution_count": 59,
     "metadata": {},
     "output_type": "execute_result"
    }
   ],
   "source": [
    "#predicted class label of the sample x0\n",
    "y0_pred = np.argmax(counter)\n",
    "y0_pred"
   ]
  },
  {
   "cell_type": "code",
   "execution_count": 61,
   "id": "77c71b41-8da0-4df7-bbc5-7a0461802b32",
   "metadata": {},
   "outputs": [],
   "source": [
    "def find_K_nearest_neighbours(X_train, X_test, K):\n",
    "    # X_train.shape (N1, M)\n",
    "    # X_test.shape (N2, M)\n",
    "    K_nearest_neighbours=[]\n",
    "    for n in range(0, X_test.shape[0]):\n",
    "        x=X_test[n]\n",
    "        distance_array=np.sqrt(((x.reshape(1,-1)-X_train)**2).sum(axis=1))\n",
    "        sorted_index_array=np.argsort(distance_array)\n",
    "        K_nearest_neighbours_x=sorted_index_array[0:K]\n",
    "        K_nearest_neighbours.append(K_nearest_neighbours_x)\n",
    "    K_nearest_neighbours=np.array(K_nearest_neighbours)\n",
    "    return K_nearest_neighbours"
   ]
  },
  {
   "cell_type": "code",
   "execution_count": 63,
   "id": "2074fdf9-7362-4e24-88a7-629fea92c81b",
   "metadata": {},
   "outputs": [],
   "source": [
    "K_nearest_neighbours=find_K_nearest_neighbours(X_train, X_test, K)"
   ]
  },
  {
   "cell_type": "code",
   "execution_count": 65,
   "id": "3dc7715a-1a45-4601-a04b-0f4259b2a12f",
   "metadata": {},
   "outputs": [
    {
     "data": {
      "text/plain": [
       "array([[24, 33, 14, 17,  1],\n",
       "       [29, 22, 23, 36,  0],\n",
       "       [46,  4, 45, 32, 14],\n",
       "       [40, 31,  9,  7,  3],\n",
       "       [36,  0, 22,  9, 29],\n",
       "       [10,  6, 38, 12,  3],\n",
       "       [35, 25, 17, 18,  2],\n",
       "       [ 4, 46, 45, 32, 14],\n",
       "       [ 0, 36,  9, 10, 23],\n",
       "       [39, 38,  3,  7, 12],\n",
       "       [42, 34, 16,  5,  7],\n",
       "       [ 9, 40, 31,  0,  3]])"
      ]
     },
     "execution_count": 65,
     "metadata": {},
     "output_type": "execute_result"
    }
   ],
   "source": [
    "K_nearest_neighbours"
   ]
  },
  {
   "cell_type": "code",
   "execution_count": 67,
   "id": "bd00e732-3649-4e44-9b21-b4acd367fc64",
   "metadata": {},
   "outputs": [
    {
     "data": {
      "text/plain": [
       "(12, 5)"
      ]
     },
     "execution_count": 67,
     "metadata": {},
     "output_type": "execute_result"
    }
   ],
   "source": [
    "K_nearest_neighbours.shape"
   ]
  },
  {
   "cell_type": "markdown",
   "id": "6f889cbc-7372-4e52-aa07-5910e6e9819c",
   "metadata": {},
   "source": [
    "### implement a function to do majority voting"
   ]
  },
  {
   "cell_type": "code",
   "execution_count": 83,
   "id": "e2f7d2c9-95fe-4386-baff-74815c141198",
   "metadata": {},
   "outputs": [],
   "source": [
    "def majority_vote(K_nearest_neighbours, Y_train):\n",
    "    Y_pred=np.zeros(K_nearest_neighbours.shape[0])\n",
    "    K=K_nearest_neighbours.shape[1]\n",
    "    num_classes=max(Y_train)-min(Y_train)+1\n",
    "    for n in range(0, len(Y_pred)):\n",
    "        counter=np.zeros(num_classes)\n",
    "        for k in range(0, K):\n",
    "            class_id=Y_train[K_nearest_neighbours[n]][k]\n",
    "            counter[class_id]+=1 # one vote for class_id\n",
    "        Y_pred[n]=np.argmax(counter)\n",
    "    return Y_pred"
   ]
  },
  {
   "cell_type": "code",
   "execution_count": 85,
   "id": "868c31e1-f08b-44f9-9262-d2a4debbefd4",
   "metadata": {},
   "outputs": [],
   "source": [
    "Y_test_pred=majority_vote(K_nearest_neighbours, Y_train)"
   ]
  },
  {
   "cell_type": "code",
   "execution_count": 87,
   "id": "499a9f72-2aae-43c2-80cf-3f293dca17ed",
   "metadata": {},
   "outputs": [
    {
     "data": {
      "text/plain": [
       "array([2., 2., 3., 2., 2., 0., 0., 3., 2., 0., 1., 2.])"
      ]
     },
     "execution_count": 87,
     "metadata": {},
     "output_type": "execute_result"
    }
   ],
   "source": [
    "Y_test_pred"
   ]
  },
  {
   "cell_type": "markdown",
   "id": "27c04608-173a-4268-9c09-f0d33d5904b8",
   "metadata": {},
   "source": [
    "### implement a function to caluclate classification accuracy"
   ]
  },
  {
   "cell_type": "code",
   "execution_count": 90,
   "id": "99724ec6-bee3-4d07-9f47-5d7c092d0f01",
   "metadata": {},
   "outputs": [],
   "source": [
    "def cal_accuracy(Y_test, Y_test_pred):\n",
    "    if Y_test.shape[0] != Y_test_pred.shape[0]:\n",
    "        raise ValueError('wrong shapes')\n",
    "    num_samples=Y_test.shape[0]\n",
    "    correct=0\n",
    "    for n in range(0, num_samples):\n",
    "        if Y_test[n]==Y_test_pred[n]:\n",
    "            correct+=1\n",
    "    accuracy=correct/num_samples\n",
    "    return accuracy"
   ]
  },
  {
   "cell_type": "code",
   "execution_count": 92,
   "id": "f180aeb9-9e64-4129-849c-32891787fa14",
   "metadata": {},
   "outputs": [
    {
     "data": {
      "text/plain": [
       "0.75"
      ]
     },
     "execution_count": 92,
     "metadata": {},
     "output_type": "execute_result"
    }
   ],
   "source": [
    "cal_accuracy(Y_test, Y_test_pred)"
   ]
  },
  {
   "cell_type": "code",
   "execution_count": 94,
   "id": "5be55927-9f4b-4bbc-aae6-51ed2398055c",
   "metadata": {},
   "outputs": [
    {
     "data": {
      "text/plain": [
       "np.float64(0.75)"
      ]
     },
     "execution_count": 94,
     "metadata": {},
     "output_type": "execute_result"
    }
   ],
   "source": [
    "#one line of code to calculate accuracy\n",
    "accuracy=(Y_test==Y_test_pred).sum()/Y_test.shape[0]\n",
    "accuracy"
   ]
  },
  {
   "cell_type": "markdown",
   "id": "af049dd0-75c4-4560-9603-53c7f4beabea",
   "metadata": {},
   "source": [
    "### implement MyKNNClassifier"
   ]
  },
  {
   "cell_type": "code",
   "execution_count": 84,
   "id": "fd32d0c1-2d89-4142-8db6-9cb8cd87d193",
   "metadata": {},
   "outputs": [],
   "source": [
    "class MyKNNClassifier:\n",
    "    def __init__(self, n_neighbors):\n",
    "        self.n_neighbors=n_neighbors\n",
    "        self.X_train=None\n",
    "        self.Y_train=None\n",
    "    def fit(self, X, Y):\n",
    "        self.X_train=X\n",
    "        self.Y_train=Y\n",
    "        self.num_classes=max(Y)-min(Y)+1\n",
    "    def predict(self, X):\n",
    "        K_nearest_neighbours=find_K_nearest_neighbours(X_train=self.X_train, X_test=X, K=self.n_neighbors)\n",
    "        Y_test_pred=majority_vote(K_nearest_neighbours, self.Y_train)\n",
    "        return Y_test_pred"
   ]
  },
  {
   "cell_type": "code",
   "execution_count": 86,
   "id": "75b864c2-35b3-41b3-91ba-25e639b7779c",
   "metadata": {},
   "outputs": [
    {
     "data": {
      "text/plain": [
       "array([2., 2., 3., 2., 2., 0., 0., 3., 2., 0., 1., 2.])"
      ]
     },
     "execution_count": 86,
     "metadata": {},
     "output_type": "execute_result"
    }
   ],
   "source": [
    "my_knn=MyKNNClassifier(n_neighbors=5)\n",
    "my_knn.fit(X_train, Y_train)\n",
    "Y_test_pred=my_knn.predict(X_test)\n",
    "Y_test_pred"
   ]
  },
  {
   "cell_type": "code",
   "execution_count": 88,
   "id": "1d4a9c8c-8f77-4766-9c0a-d378958485d0",
   "metadata": {},
   "outputs": [
    {
     "data": {
      "text/plain": [
       "np.float64(0.75)"
      ]
     },
     "execution_count": 88,
     "metadata": {},
     "output_type": "execute_result"
    }
   ],
   "source": [
    "#one line of code to calculate accuracy\n",
    "accuracy=(Y_test==Y_test_pred).sum()/Y_test.shape[0]\n",
    "accuracy"
   ]
  },
  {
   "cell_type": "code",
   "execution_count": null,
   "id": "763972e7-74ff-4e75-96d0-ef6ac307e57e",
   "metadata": {},
   "outputs": [],
   "source": []
  }
 ],
 "metadata": {
  "kernelspec": {
   "display_name": "Python [conda env:base] *",
   "language": "python",
   "name": "conda-base-py"
  },
  "language_info": {
   "codemirror_mode": {
    "name": "ipython",
    "version": 3
   },
   "file_extension": ".py",
   "mimetype": "text/x-python",
   "name": "python",
   "nbconvert_exporter": "python",
   "pygments_lexer": "ipython3",
   "version": "3.12.7"
  }
 },
 "nbformat": 4,
 "nbformat_minor": 5
}

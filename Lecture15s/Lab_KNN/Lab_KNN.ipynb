{
 "cells": [
  {
   "cell_type": "markdown",
   "id": "9ed0599f-c6e9-456b-ac96-e5a021c4a922",
   "metadata": {},
   "source": [
    "# Lab-KNN: Implement a KNN Regressor from scratch (30 points)"
   ]
  },
  {
   "cell_type": "code",
   "execution_count": 1,
   "id": "9476a776-811a-4bc2-85d6-3a4b8c4b873b",
   "metadata": {},
   "outputs": [],
   "source": [
    "import numpy as np\n",
    "import matplotlib.pyplot as plt\n",
    "import pandas as pd\n",
    "from sklearn.preprocessing import MinMaxScaler\n",
    "from sklearn.model_selection import train_test_split"
   ]
  },
  {
   "cell_type": "code",
   "execution_count": 2,
   "id": "0006a161-c213-44d2-a23f-5780ba7c65ef",
   "metadata": {},
   "outputs": [
    {
     "data": {
      "text/html": [
       "<div>\n",
       "<style scoped>\n",
       "    .dataframe tbody tr th:only-of-type {\n",
       "        vertical-align: middle;\n",
       "    }\n",
       "\n",
       "    .dataframe tbody tr th {\n",
       "        vertical-align: top;\n",
       "    }\n",
       "\n",
       "    .dataframe thead th {\n",
       "        text-align: right;\n",
       "    }\n",
       "</style>\n",
       "<table border=\"1\" class=\"dataframe\">\n",
       "  <thead>\n",
       "    <tr style=\"text-align: right;\">\n",
       "      <th></th>\n",
       "      <th>CRIM</th>\n",
       "      <th>ZN</th>\n",
       "      <th>INDUS</th>\n",
       "      <th>CHAS</th>\n",
       "      <th>NOX</th>\n",
       "      <th>RM</th>\n",
       "      <th>AGE</th>\n",
       "      <th>DIS</th>\n",
       "      <th>RAD</th>\n",
       "      <th>TAX</th>\n",
       "      <th>PTRATIO</th>\n",
       "      <th>B</th>\n",
       "      <th>LSTAT</th>\n",
       "      <th>MEDV</th>\n",
       "    </tr>\n",
       "  </thead>\n",
       "  <tbody>\n",
       "    <tr>\n",
       "      <th>0</th>\n",
       "      <td>0.00632</td>\n",
       "      <td>18.0</td>\n",
       "      <td>2.31</td>\n",
       "      <td>0</td>\n",
       "      <td>0.538</td>\n",
       "      <td>6.575</td>\n",
       "      <td>65.2</td>\n",
       "      <td>4.0900</td>\n",
       "      <td>1</td>\n",
       "      <td>296.0</td>\n",
       "      <td>15.3</td>\n",
       "      <td>396.90</td>\n",
       "      <td>4.98</td>\n",
       "      <td>24.0</td>\n",
       "    </tr>\n",
       "    <tr>\n",
       "      <th>1</th>\n",
       "      <td>0.02731</td>\n",
       "      <td>0.0</td>\n",
       "      <td>7.07</td>\n",
       "      <td>0</td>\n",
       "      <td>0.469</td>\n",
       "      <td>6.421</td>\n",
       "      <td>78.9</td>\n",
       "      <td>4.9671</td>\n",
       "      <td>2</td>\n",
       "      <td>242.0</td>\n",
       "      <td>17.8</td>\n",
       "      <td>396.90</td>\n",
       "      <td>9.14</td>\n",
       "      <td>21.6</td>\n",
       "    </tr>\n",
       "    <tr>\n",
       "      <th>2</th>\n",
       "      <td>0.02729</td>\n",
       "      <td>0.0</td>\n",
       "      <td>7.07</td>\n",
       "      <td>0</td>\n",
       "      <td>0.469</td>\n",
       "      <td>7.185</td>\n",
       "      <td>61.1</td>\n",
       "      <td>4.9671</td>\n",
       "      <td>2</td>\n",
       "      <td>242.0</td>\n",
       "      <td>17.8</td>\n",
       "      <td>392.83</td>\n",
       "      <td>4.03</td>\n",
       "      <td>34.7</td>\n",
       "    </tr>\n",
       "    <tr>\n",
       "      <th>3</th>\n",
       "      <td>0.03237</td>\n",
       "      <td>0.0</td>\n",
       "      <td>2.18</td>\n",
       "      <td>0</td>\n",
       "      <td>0.458</td>\n",
       "      <td>6.998</td>\n",
       "      <td>45.8</td>\n",
       "      <td>6.0622</td>\n",
       "      <td>3</td>\n",
       "      <td>222.0</td>\n",
       "      <td>18.7</td>\n",
       "      <td>394.63</td>\n",
       "      <td>2.94</td>\n",
       "      <td>33.4</td>\n",
       "    </tr>\n",
       "    <tr>\n",
       "      <th>4</th>\n",
       "      <td>0.06905</td>\n",
       "      <td>0.0</td>\n",
       "      <td>2.18</td>\n",
       "      <td>0</td>\n",
       "      <td>0.458</td>\n",
       "      <td>7.147</td>\n",
       "      <td>54.2</td>\n",
       "      <td>6.0622</td>\n",
       "      <td>3</td>\n",
       "      <td>222.0</td>\n",
       "      <td>18.7</td>\n",
       "      <td>396.90</td>\n",
       "      <td>5.33</td>\n",
       "      <td>36.2</td>\n",
       "    </tr>\n",
       "  </tbody>\n",
       "</table>\n",
       "</div>"
      ],
      "text/plain": [
       "      CRIM    ZN  INDUS  CHAS    NOX     RM   AGE     DIS  RAD    TAX  \\\n",
       "0  0.00632  18.0   2.31     0  0.538  6.575  65.2  4.0900    1  296.0   \n",
       "1  0.02731   0.0   7.07     0  0.469  6.421  78.9  4.9671    2  242.0   \n",
       "2  0.02729   0.0   7.07     0  0.469  7.185  61.1  4.9671    2  242.0   \n",
       "3  0.03237   0.0   2.18     0  0.458  6.998  45.8  6.0622    3  222.0   \n",
       "4  0.06905   0.0   2.18     0  0.458  7.147  54.2  6.0622    3  222.0   \n",
       "\n",
       "   PTRATIO       B  LSTAT  MEDV  \n",
       "0     15.3  396.90   4.98  24.0  \n",
       "1     17.8  396.90   9.14  21.6  \n",
       "2     17.8  392.83   4.03  34.7  \n",
       "3     18.7  394.63   2.94  33.4  \n",
       "4     18.7  396.90   5.33  36.2  "
      ]
     },
     "execution_count": 2,
     "metadata": {},
     "output_type": "execute_result"
    }
   ],
   "source": [
    "housing=pd.read_csv('boston_housing.csv')\n",
    "housing.head()"
   ]
  },
  {
   "cell_type": "code",
   "execution_count": 3,
   "id": "b2230a10-ecc3-4e34-a619-9f9f1b42e400",
   "metadata": {},
   "outputs": [],
   "source": [
    "X = housing.iloc[:,:-1].values\n",
    "Y = housing.iloc[:,-1].values\n",
    "X_train, X_test, Y_train, Y_test = train_test_split(X, Y, test_size=0.2, random_state=0)\n",
    "scaler=MinMaxScaler()\n",
    "#normalize the features\n",
    "X_train_s = scaler.fit_transform(X_train)\n",
    "X_test_s = scaler.transform(X_test)"
   ]
  },
  {
   "cell_type": "markdown",
   "id": "1cc37eb9-c77b-4278-98d0-133545248fd8",
   "metadata": {},
   "source": [
    "## Your work starts here"
   ]
  },
  {
   "cell_type": "markdown",
   "id": "3df42721-6cb6-4d38-9a83-655f92b42c19",
   "metadata": {},
   "source": [
    "### implement a function to find the K nearest neighbors (0 point)\n",
    "you can copy the function in KNN_implementation_classification.ipynb"
   ]
  },
  {
   "cell_type": "code",
   "execution_count": 4,
   "id": "c4b0c6db-3185-40a6-a999-0efc91e6c708",
   "metadata": {},
   "outputs": [],
   "source": [
    "def find_K_nearest_neighbours(X_train, X_test, K):\n",
    "    pass"
   ]
  },
  {
   "cell_type": "markdown",
   "id": "526f3a51-a161-49eb-a6b6-8e1be5287603",
   "metadata": {},
   "source": [
    "### implement a function to make predictions using K nearest neighbours (15 points)"
   ]
  },
  {
   "cell_type": "code",
   "execution_count": 5,
   "id": "fc46bfec-7d48-4028-ab2f-71da4d6733a7",
   "metadata": {},
   "outputs": [],
   "source": [
    "def make_predictions(K_nearest_neighbours, Y_train):\n",
    "    # no more than 2 lines of code in this function\n",
    "    # do not use ;\n",
    "    # otherwise, you get zero point for this function\n",
    "    pass"
   ]
  },
  {
   "cell_type": "markdown",
   "id": "f4337211-664f-43f8-88ce-36e0ba950aa9",
   "metadata": {},
   "source": [
    "### implement and test MyKNNRegressor (15 points)"
   ]
  },
  {
   "cell_type": "code",
   "execution_count": 6,
   "id": "fc503e61-4492-4f80-be67-7881c4ba31bb",
   "metadata": {},
   "outputs": [],
   "source": [
    "#implement the class (7 points)\n",
    "class MyKNNRegressor:\n",
    "    def __init__(self, n_neighbors):\n",
    "        pass\n",
    "    def fit(self, X, Y):\n",
    "        pass\n",
    "    def predict(self, X):\n",
    "        #use find_K_nearest_neighbours and make_predictions\n",
    "        #no more than 3 lines of code, do not use ;\n",
    "        #otherwise, you get zero point for this class\n",
    "        pass"
   ]
  },
  {
   "cell_type": "code",
   "execution_count": 7,
   "id": "1b72e707-1680-4d29-a249-41b80531e53f",
   "metadata": {},
   "outputs": [],
   "source": [
    "#(6 points)\n",
    "#create a knn model (an instance object, name it my_knn) using MyKNNRegressor, and set n_neighbors to 5\n",
    "#fit the model to the training data\n",
    "#use the model to make predictions on the test data to obtain Y_test_pred\n"
   ]
  },
  {
   "cell_type": "code",
   "execution_count": 8,
   "id": "6f70f0e8-68f4-4b22-b0ca-7673fa977198",
   "metadata": {},
   "outputs": [
    {
     "data": {
      "text/plain": [
       "array([22.12, 16.24, 24.82, 10.68, 21.74, 20.12, 20.98, 20.1 , 23.62,\n",
       "       15.12,  8.76, 10.56, 16.18,  8.8 , 30.54, 32.4 , 23.66, 36.26,\n",
       "       34.7 , 21.94, 21.94, 22.1 , 19.56, 29.22, 22.68, 15.64, 16.52,\n",
       "       17.18, 35.06, 18.32, 16.48, 17.94, 19.76, 21.28, 25.84, 32.44,\n",
       "        9.2 , 32.44, 14.72, 15.78, 24.76, 22.68, 19.42, 17.7 , 22.8 ,\n",
       "       26.14, 22.72, 25.44, 16.6 , 21.26, 16.88, 22.78, 23.12, 25.74,\n",
       "       15.92, 21.9 , 21.88, 20.5 , 10.44, 21.38, 23.84, 19.88, 29.44,\n",
       "       28.84, 21.1 , 34.16, 14.76, 20.86, 14.56, 23.88, 21.42, 22.3 ,\n",
       "       26.7 , 30.2 , 23.34,  9.18, 34.82, 22.76, 27.5 , 19.32, 22.44,\n",
       "       19.58, 17.26, 34.82, 34.82, 23.2 , 27.68, 14.74, 24.42, 15.92,\n",
       "       21.78, 11.  , 24.02, 25.1 , 21.42, 23.72,  9.  , 24.8 , 12.98,\n",
       "       20.48, 23.46, 19.56])"
      ]
     },
     "execution_count": 8,
     "metadata": {},
     "output_type": "execute_result"
    }
   ],
   "source": [
    "Y_test_pred"
   ]
  },
  {
   "cell_type": "code",
   "execution_count": 9,
   "id": "ebf4e8e7-2bf8-4cdd-afb9-f45a0fb4f19b",
   "metadata": {},
   "outputs": [
    {
     "name": "stdout",
     "output_type": "stream",
     "text": [
      "MSE= 41.04290980392156\n",
      "MAE= 3.9129411764705884\n",
      "MAPE= 0.17370719413309002\n"
     ]
    }
   ],
   "source": [
    "# Calculate errors on the test set (1 point)\n"
   ]
  },
  {
   "cell_type": "code",
   "execution_count": 10,
   "id": "f6f1fc88-8d03-4c14-a56c-c3df8f0c7363",
   "metadata": {},
   "outputs": [
    {
     "data": {
      "text/plain": [
       "Text(0, 0.5, 'Y_test_pred')"
      ]
     },
     "execution_count": 10,
     "metadata": {},
     "output_type": "execute_result"
    },
    {
     "data": {
      "image/png": "[encoded data removed]",
      "text/plain": [
       "<Figure size 640x480 with 1 Axes>"
      ]
     },
     "metadata": {},
     "output_type": "display_data"
    }
   ],
   "source": [
    "#plot the 45-degree line and the predictions (1 point)\n"
   ]
  }
 ],
 "metadata": {
  "kernelspec": {
   "display_name": "Python 3 (ipykernel)",
   "language": "python",
   "name": "python3"
  },
  "language_info": {
   "codemirror_mode": {
    "name": "ipython",
    "version": 3
   },
   "file_extension": ".py",
   "mimetype": "text/x-python",
   "name": "python",
   "nbconvert_exporter": "python",
   "pygments_lexer": "ipython3",
   "version": "3.12.4"
  }
 },
 "nbformat": 4,
 "nbformat_minor": 5
}

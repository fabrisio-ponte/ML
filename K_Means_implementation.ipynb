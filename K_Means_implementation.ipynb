{
 "cells": [
  {
   "cell_type": "markdown",
   "metadata": {},
   "source": [
    "# Implement K-Means from Scratch using Python with Numpy\n",
    "tip: press ctrl+`[` or `]` for indentation/de-indentation"
   ]
  },
  {
   "cell_type": "code",
   "execution_count": 3,
   "metadata": {},
   "outputs": [],
   "source": [
    "#https://stackoverflow.com/questions/32612180/eliminating-warnings-from-scikit-learn\n",
    "def warn(*args, **kwargs):\n",
    "    pass\n",
    "import warnings\n",
    "warnings.warn = warn"
   ]
  },
  {
   "cell_type": "code",
   "execution_count": 5,
   "metadata": {},
   "outputs": [],
   "source": [
    "from IPython import display\n",
    "import numpy as np\n",
    "import matplotlib.pyplot as plt"
   ]
  },
  {
   "cell_type": "markdown",
   "metadata": {},
   "source": [
    "## generate a toy dataset for algorithm development"
   ]
  },
  {
   "cell_type": "code",
   "execution_count": 37,
   "metadata": {},
   "outputs": [],
   "source": [
    "K=3\n",
    "center_1 = np.array([1,1])\n",
    "center_2 = np.array([5,5])\n",
    "center_3 = np.array([8,1])\n",
    "# Generate random data and center it to the three centers\n",
    "cluster_1 = np.random.randn(100, 2) + center_1\n",
    "cluster_2 = np.random.randn(100,2) + center_2\n",
    "cluster_3 = np.random.randn(100,2) + center_3\n",
    "data = np.concatenate((cluster_1, cluster_2, cluster_3), axis = 0)"
   ]
  },
  {
   "cell_type": "code",
   "execution_count": 39,
   "metadata": {},
   "outputs": [
    {
     "data": {
      "text/plain": [
       "(300, 2)"
      ]
     },
     "execution_count": 39,
     "metadata": {},
     "output_type": "execute_result"
    }
   ],
   "source": [
    "data.shape # 300 samples: each sample has two features (e.g., income, spend)"
   ]
  },
  {
   "cell_type": "code",
   "execution_count": 41,
   "metadata": {},
   "outputs": [
    {
     "data": {
      "text/plain": [
       "[<matplotlib.lines.Line2D at 0x16a1d3980>]"
      ]
     },
     "execution_count": 41,
     "metadata": {},
     "output_type": "execute_result"
    },
    {
     "data": {
      "image/png": "[encoded data removed]",
      "text/plain": [
       "<Figure size 640x480 with 1 Axes>"
      ]
     },
     "metadata": {},
     "output_type": "display_data"
    }
   ],
   "source": [
    "fig, ax = plt.subplots()\n",
    "ax.plot(data[:, 0], data[:, 1], '.')"
   ]
  },
  {
   "cell_type": "markdown",
   "metadata": {},
   "source": [
    "## apply the k-means algorithm in sk-learn"
   ]
  },
  {
   "cell_type": "code",
   "execution_count": 43,
   "metadata": {},
   "outputs": [],
   "source": [
    "from sklearn.cluster import KMeans as sk_KMeans"
   ]
  },
  {
   "cell_type": "code",
   "execution_count": 45,
   "metadata": {},
   "outputs": [],
   "source": [
    "sk_model=sk_KMeans(n_clusters=3)\n",
    "sk_model.fit(data)\n",
    "sk_label=sk_model.predict(data)"
   ]
  },
  {
   "cell_type": "code",
   "execution_count": 47,
   "metadata": {},
   "outputs": [
    {
     "data": {
      "text/plain": [
       "['__abstractmethods__',\n",
       " '__annotations__',\n",
       " '__class__',\n",
       " '__delattr__',\n",
       " '__dict__',\n",
       " '__dir__',\n",
       " '__doc__',\n",
       " '__eq__',\n",
       " '__format__',\n",
       " '__ge__',\n",
       " '__getattribute__',\n",
       " '__getstate__',\n",
       " '__gt__',\n",
       " '__hash__',\n",
       " '__init__',\n",
       " '__init_subclass__',\n",
       " '__le__',\n",
       " '__lt__',\n",
       " '__module__',\n",
       " '__ne__',\n",
       " '__new__',\n",
       " '__reduce__',\n",
       " '__reduce_ex__',\n",
       " '__repr__',\n",
       " '__setattr__',\n",
       " '__setstate__',\n",
       " '__sizeof__',\n",
       " '__sklearn_clone__',\n",
       " '__slots__',\n",
       " '__str__',\n",
       " '__subclasshook__',\n",
       " '__weakref__',\n",
       " '_abc_impl',\n",
       " '_algorithm',\n",
       " '_build_request_for_signature',\n",
       " '_check_feature_names',\n",
       " '_check_mkl_vcomp',\n",
       " '_check_n_features',\n",
       " '_check_params_vs_input',\n",
       " '_check_test_data',\n",
       " '_doc_link_module',\n",
       " '_doc_link_template',\n",
       " '_doc_link_url_param_generator',\n",
       " '_estimator_type',\n",
       " '_get_default_requests',\n",
       " '_get_doc_link',\n",
       " '_get_metadata_request',\n",
       " '_get_param_names',\n",
       " '_get_tags',\n",
       " '_init_centroids',\n",
       " '_more_tags',\n",
       " '_n_features_out',\n",
       " '_n_init',\n",
       " '_n_threads',\n",
       " '_parameter_constraints',\n",
       " '_repr_html_',\n",
       " '_repr_html_inner',\n",
       " '_repr_mimebundle_',\n",
       " '_sklearn_auto_wrap_output_keys',\n",
       " '_tol',\n",
       " '_transform',\n",
       " '_validate_center_shape',\n",
       " '_validate_data',\n",
       " '_validate_params',\n",
       " '_warn_mkl_vcomp',\n",
       " 'algorithm',\n",
       " 'cluster_centers_',\n",
       " 'copy_x',\n",
       " 'fit',\n",
       " 'fit_predict',\n",
       " 'fit_transform',\n",
       " 'get_feature_names_out',\n",
       " 'get_metadata_routing',\n",
       " 'get_params',\n",
       " 'inertia_',\n",
       " 'init',\n",
       " 'labels_',\n",
       " 'max_iter',\n",
       " 'n_clusters',\n",
       " 'n_features_in_',\n",
       " 'n_init',\n",
       " 'n_iter_',\n",
       " 'predict',\n",
       " 'random_state',\n",
       " 'score',\n",
       " 'set_fit_request',\n",
       " 'set_output',\n",
       " 'set_params',\n",
       " 'set_score_request',\n",
       " 'tol',\n",
       " 'transform',\n",
       " 'verbose']"
      ]
     },
     "execution_count": 47,
     "metadata": {},
     "output_type": "execute_result"
    }
   ],
   "source": [
    "dir(sk_model)"
   ]
  },
  {
   "cell_type": "code",
   "execution_count": 49,
   "metadata": {},
   "outputs": [
    {
     "data": {
      "text/plain": [
       "300"
      ]
     },
     "execution_count": 49,
     "metadata": {},
     "output_type": "execute_result"
    }
   ],
   "source": [
    "sk_model.max_iter"
   ]
  },
  {
   "cell_type": "code",
   "execution_count": 51,
   "metadata": {},
   "outputs": [
    {
     "data": {
      "text/plain": [
       "3"
      ]
     },
     "execution_count": 51,
     "metadata": {},
     "output_type": "execute_result"
    }
   ],
   "source": [
    "sk_model.n_clusters"
   ]
  },
  {
   "cell_type": "code",
   "execution_count": 53,
   "metadata": {},
   "outputs": [
    {
     "data": {
      "text/plain": [
       "(3, 2)"
      ]
     },
     "execution_count": 53,
     "metadata": {},
     "output_type": "execute_result"
    }
   ],
   "source": [
    "sk_centers=sk_model.cluster_centers_\n",
    "sk_centers.shape"
   ]
  },
  {
   "cell_type": "code",
   "execution_count": 55,
   "metadata": {},
   "outputs": [
    {
     "data": {
      "text/plain": [
       "[<matplotlib.lines.Line2D at 0x16a247fe0>]"
      ]
     },
     "execution_count": 55,
     "metadata": {},
     "output_type": "execute_result"
    },
    {
     "data": {
      "image/png": "[encoded data removed]",
      "text/plain": [
       "<Figure size 640x480 with 1 Axes>"
      ]
     },
     "metadata": {},
     "output_type": "display_data"
    }
   ],
   "source": [
    "fig, ax = plt.subplots()\n",
    "ax.plot(data[sk_label==0, 0], data[sk_label==0, 1], 'r.')\n",
    "ax.plot(data[sk_label==1, 0], data[sk_label==1, 1], 'g.')\n",
    "ax.plot(data[sk_label==2, 0], data[sk_label==2, 1], 'b.')\n",
    "ax.plot(sk_centers[0,0], sk_centers[0,1], 'rs', markersize=10)\n",
    "ax.plot(sk_centers[1,0], sk_centers[1,1], 'gs', markersize=10)\n",
    "ax.plot(sk_centers[2,0], sk_centers[2,1], 'bs', markersize=10)"
   ]
  },
  {
   "cell_type": "markdown",
   "metadata": {},
   "source": [
    "## Let's implement K-Means"
   ]
  },
  {
   "cell_type": "code",
   "execution_count": 58,
   "metadata": {},
   "outputs": [],
   "source": [
    "class MyKMeans:    \n",
    "    def __init__(self, n_clusters, max_iter=300):\n",
    "        self.n_clusters = n_clusters\n",
    "        self.max_iter = max_iter\n",
    "        self.cluster_centers_ = None\n",
    "        self.labels_=None\n",
    "        \n",
    "    def initialize(self, X):\n",
    "        pass\n",
    "    \n",
    "    def fit(self, X):\n",
    "        #find the cluster centers of the data samples in X\n",
    "        #each row of X is a sample (feature vector)\n",
    "        pass\n",
    "    \n",
    "    def predict(self, X):\n",
    "        #predict the cluster labels of the data samples in X\n",
    "        #each row of X is a sample (feature vector)\n",
    "        pass    "
   ]
  },
  {
   "cell_type": "markdown",
   "metadata": {},
   "source": [
    "### initialization\n",
    "use random numbers to initialize the cluster centers"
   ]
  },
  {
   "cell_type": "code",
   "execution_count": 69,
   "metadata": {},
   "outputs": [
    {
     "data": {
      "text/plain": [
       "array([[0.36704227, 4.91008992],\n",
       "       [4.02088705, 4.25034261],\n",
       "       [9.81697813, 0.5191035 ]])"
      ]
     },
     "execution_count": 69,
     "metadata": {},
     "output_type": "execute_result"
    }
   ],
   "source": [
    "centers_init=10*np.random.rand(K, 2)\n",
    "centers_init"
   ]
  },
  {
   "cell_type": "code",
   "execution_count": 71,
   "metadata": {},
   "outputs": [
    {
     "data": {
      "text/plain": [
       "[<matplotlib.lines.Line2D at 0x16a3587d0>]"
      ]
     },
     "execution_count": 71,
     "metadata": {},
     "output_type": "execute_result"
    },
    {
     "data": {
      "image/png": "[encoded data removed]",
      "text/plain": [
       "<Figure size 640x480 with 1 Axes>"
      ]
     },
     "metadata": {},
     "output_type": "display_data"
    }
   ],
   "source": [
    "fig, ax = plt.subplots()\n",
    "ax.plot(data[:, 0], data[:, 1], 'k.')\n",
    "ax.plot(centers_init[0,0], centers_init[0,1], 'rs', markersize=10)\n",
    "ax.plot(centers_init[1,0], centers_init[1,1], 'gs', markersize=10)\n",
    "ax.plot(centers_init[2,0], centers_init[2,1], 'bs', markersize=10)"
   ]
  },
  {
   "cell_type": "code",
   "execution_count": 73,
   "metadata": {},
   "outputs": [
    {
     "data": {
      "text/plain": [
       "array([-1.91383013, -1.26903859])"
      ]
     },
     "execution_count": 73,
     "metadata": {},
     "output_type": "execute_result"
    }
   ],
   "source": [
    "data.min(axis=0)"
   ]
  },
  {
   "cell_type": "code",
   "execution_count": 75,
   "metadata": {},
   "outputs": [
    {
     "data": {
      "text/plain": [
       "(300, 2)"
      ]
     },
     "execution_count": 75,
     "metadata": {},
     "output_type": "execute_result"
    }
   ],
   "source": [
    "data.shape"
   ]
  },
  {
   "cell_type": "code",
   "execution_count": 87,
   "metadata": {},
   "outputs": [],
   "source": [
    "#Better Initialization data points to start the KM Implementation\n",
    "def K_Means_initialization(n_clusters, X, random_state):\n",
    "    #find min and max of each feature in data X\n",
    "    min_values=X.min(axis=0)\n",
    "    max_values=X.max(axis=0)\n",
    "    rng=np.random.RandomState(random_state)\n",
    "    centers=rng.rand(n_clusters, X.shape[1])\n",
    "    for k in range(0, X.shape[1]):\n",
    "        centers[:,k]=min_values[k]+(max_values[k]-min_values[k])*centers[:,k]\n",
    "    return centers"
   ]
  },
  {
   "cell_type": "code",
   "execution_count": 89,
   "metadata": {},
   "outputs": [
    {
     "data": {
      "text/plain": [
       "array([[4.96315229, 5.28054819],\n",
       "       [5.63917851, 3.72091213],\n",
       "       [3.39483408, 4.64595364]])"
      ]
     },
     "execution_count": 89,
     "metadata": {},
     "output_type": "execute_result"
    }
   ],
   "source": [
    "centers_init = K_Means_initialization(n_clusters=K, X=data, random_state=0)\n",
    "centers_init"
   ]
  },
  {
   "cell_type": "code",
   "execution_count": 91,
   "metadata": {},
   "outputs": [
    {
     "data": {
      "text/plain": [
       "[<matplotlib.lines.Line2D at 0x16a438aa0>]"
      ]
     },
     "execution_count": 91,
     "metadata": {},
     "output_type": "execute_result"
    },
    {
     "data": {
      "image/png": "[encoded data removed]",
      "text/plain": [
       "<Figure size 640x480 with 1 Axes>"
      ]
     },
     "metadata": {},
     "output_type": "display_data"
    }
   ],
   "source": [
    "fig, ax = plt.subplots()\n",
    "ax.plot(data[:, 0], data[:, 1], 'k.')\n",
    "ax.plot(centers_init[0,0], centers_init[0,1], 'rs', markersize=10)\n",
    "ax.plot(centers_init[1,0], centers_init[1,1], 'gs', markersize=10)\n",
    "ax.plot(centers_init[2,0], centers_init[2,1], 'bs', markersize=10)"
   ]
  },
  {
   "cell_type": "markdown",
   "metadata": {},
   "source": [
    "### two steps in one iteration of K-Means\n",
    "### Step-1: given the cluster centers, for each sample, find the nearest center among the cluster centers\n",
    "after step-1, every sample is assigned with a cluster label. By definition, the label of a sample is the index of the cluster  nearest to the sample.\n",
    "### Step-2: given the cluster labels,  for each cluster, compute its center.\n",
    "after step-2, the center of each cluster is updated.  By definition, the center of a cluster is the average of the samples in the cluster."
   ]
  },
  {
   "cell_type": "code",
   "execution_count": 117,
   "metadata": {
    "collapsed": true,
    "jupyter": {
     "outputs_hidden": true
    }
   },
   "outputs": [
    {
     "data": {
      "text/plain": [
       "array([[4.96315229, 5.28054819],\n",
       "       [5.63917851, 3.72091213],\n",
       "       [3.39483408, 4.64595364]])"
      ]
     },
     "execution_count": 117,
     "metadata": {},
     "output_type": "execute_result"
    }
   ],
   "source": [
    "#step-1:\n",
    "#given the cluster centers\n",
    "Centers=centers_init\n",
    "Centers"
   ]
  },
  {
   "cell_type": "code",
   "execution_count": 119,
   "metadata": {},
   "outputs": [
    {
     "data": {
      "text/plain": [
       "(3, 2)"
      ]
     },
     "execution_count": 119,
     "metadata": {},
     "output_type": "execute_result"
    }
   ],
   "source": [
    "Centers.shape"
   ]
  },
  {
   "cell_type": "code",
   "execution_count": 121,
   "metadata": {},
   "outputs": [
    {
     "data": {
      "text/plain": [
       "(300, 2)"
      ]
     },
     "execution_count": 121,
     "metadata": {},
     "output_type": "execute_result"
    }
   ],
   "source": [
    "data.shape"
   ]
  },
  {
   "cell_type": "code",
   "execution_count": 99,
   "metadata": {},
   "outputs": [
    {
     "data": {
      "text/plain": [
       "[2, 2, 2, 2, 2, 2, 2, 2, 2, 2]"
      ]
     },
     "execution_count": 99,
     "metadata": {},
     "output_type": "execute_result"
    }
   ],
   "source": [
    "#step-1: for each sample, find the nearest center among the cluster centers\n",
    "#slow-version\n",
    "label_list=[]\n",
    "for n in range(0, data.shape[0]):\n",
    "    sample_n=data[n]\n",
    "    dist_list=[]\n",
    "    for k in range(0, Centers.shape[0]):\n",
    "        center_k=Centers[k]\n",
    "        dist_k=0\n",
    "        for i in range(0, 2):\n",
    "            dist_k=dist_k+(sample_n[i]-center_k[i])**2 #Euclidean\n",
    "        dist_k=np.sqrt(dist_k) #Square root Euclidean\n",
    "        dist_list.append(dist_k) #Append list of distances\n",
    "    idx_min=np.argmin(dist_list) #Find min distance\n",
    "    label_list.append(idx_min) #Adds index on nearest center\n",
    "label_list[0:10]"
   ]
  },
  {
   "cell_type": "code",
   "execution_count": 101,
   "metadata": {},
   "outputs": [
    {
     "data": {
      "text/plain": [
       "[2, 2, 2, 2, 2, 2, 2, 2, 2, 2]"
      ]
     },
     "execution_count": 101,
     "metadata": {},
     "output_type": "execute_result"
    }
   ],
   "source": [
    "#step-1: for each sample, find the nearest center among the cluster centers\n",
    "#faster version\n",
    "label_list=[]\n",
    "for n in range(0, data.shape[0]):\n",
    "    sample_n=data[n].reshape(1,-1) #Convert data in 2D array, correct dimensionality. Reshape sample to mantain correct dimensionality.\n",
    "    dist_list=np.sqrt(((sample_n-Centers)**2).sum(axis=1)) #Euclidean distance\n",
    "    idx_min=np.argmin(dist_list) # Find minimun distance\n",
    "    label_list.append(idx_min) #Adds index of nearest center to label list  \n",
    "label_list[0:10]"
   ]
  },
  {
   "cell_type": "code",
   "execution_count": 103,
   "metadata": {},
   "outputs": [],
   "source": [
    "def find_the_nearest_center(X, cluster_centers): #Define function with two parameters\n",
    "    label_list=np.zeros(X.shape[0]) #Create numpy array of zeros with equal lenght of data as number of samples\n",
    "    for n in range(0, X.shape[0]): #Loop through each sample of data\n",
    "        sample_n=X[n:n+1] #Extract in 2D Array\n",
    "        dist_list=np.sqrt(((sample_n-cluster_centers)**2).sum(axis=1))  #Euclidean distance between current and samplers\n",
    "        label_list[n]=np.argmin(dist_list)  # Assign index of nearest center (min distance) to nth position.  \n",
    "    return label_list"
   ]
  },
  {
   "cell_type": "code",
   "execution_count": 105,
   "metadata": {},
   "outputs": [
    {
     "data": {
      "text/plain": [
       "array([2., 2., 2., 2., 2., 2., 2., 2., 2., 2.])"
      ]
     },
     "execution_count": 105,
     "metadata": {},
     "output_type": "execute_result"
    }
   ],
   "source": [
    "labels=find_the_nearest_center(X=data, cluster_centers=Centers) #Assing cluster labels to data points\n",
    "labels[0:10]"
   ]
  },
  {
   "cell_type": "code",
   "execution_count": 107,
   "metadata": {},
   "outputs": [
    {
     "data": {
      "text/plain": [
       "(300,)"
      ]
     },
     "execution_count": 107,
     "metadata": {},
     "output_type": "execute_result"
    }
   ],
   "source": [
    "labels.shape"
   ]
  },
  {
   "cell_type": "code",
   "execution_count": 109,
   "metadata": {},
   "outputs": [
    {
     "data": {
      "text/plain": [
       "array([[5.02116095, 5.53540928],\n",
       "       [7.43362986, 1.48885143],\n",
       "       [1.5586063 , 1.93322007]])"
      ]
     },
     "execution_count": 109,
     "metadata": {},
     "output_type": "execute_result"
    }
   ],
   "source": [
    "#Step-2: given the cluster labels, for each cluster, compute its center.\n",
    "#slow\n",
    "# Update Cluster Centers\n",
    "Centers=np.zeros((K, 2)) # 2D array of zeros and 2 columns\n",
    "for k in range(0, K): # Loops through each cluster\n",
    "    center_k=np.zeros(2) # Temporary array to accumulate sum of points in cluster k\n",
    "    num_samples_k=0 # Number of points in cluster K\n",
    "    for n in range(0, data.shape[0]): # Nested loop goes through each data and if it belongs adds point to the sum\n",
    "        if labels[n] == k:\n",
    "            center_k=center_k+data[n] # Adds point to the sum\n",
    "            num_samples_k+=1\n",
    "    center_k=center_k/num_samples_k # Average\n",
    "    Centers[k]=center_k # Updates centers\n",
    "Centers  "
   ]
  },
  {
   "cell_type": "code",
   "execution_count": 111,
   "metadata": {},
   "outputs": [
    {
     "data": {
      "text/plain": [
       "array([[5.02116095, 5.53540928],\n",
       "       [7.43362986, 1.48885143],\n",
       "       [1.5586063 , 1.93322007]])"
      ]
     },
     "execution_count": 111,
     "metadata": {},
     "output_type": "execute_result"
    }
   ],
   "source": [
    "#Step-2: given the cluster labels, for each cluster, compute its center.\n",
    "#faster\n",
    "for k in range(0, K): #Loop through each cluster\n",
    "    Centers[k]=data[labels==k].mean(axis=0) #labels==k: create boolean mask, true are data opints assigned to cluster k, data: select data, mean: calculate new center\n",
    "Centers    "
   ]
  },
  {
   "cell_type": "code",
   "execution_count": 113,
   "metadata": {},
   "outputs": [],
   "source": [
    "def computer_center(n_clusters, X, labels): # n_cluster: clusters, X: Data, Labels: Grouped\n",
    "    Centers=np.zeros((n_clusters, X.shape[1])) # 2D Array of zeros\n",
    "    for k in range(0, n_clusters):\n",
    "        Centers[k]=X[labels==k].mean(axis=0) # X labels==k, creates a boolean mask for points in cluster K from data X and get the mean after assign\n",
    "    return Centers"
   ]
  },
  {
   "cell_type": "code",
   "execution_count": 115,
   "metadata": {},
   "outputs": [
    {
     "data": {
      "text/plain": [
       "array([[5.02116095, 5.53540928],\n",
       "       [7.43362986, 1.48885143],\n",
       "       [1.5586063 , 1.93322007]])"
      ]
     },
     "execution_count": 115,
     "metadata": {},
     "output_type": "execute_result"
    }
   ],
   "source": [
    "computer_center(n_clusters=K, X=data, labels=labels)"
   ]
  },
  {
   "cell_type": "markdown",
   "metadata": {},
   "source": [
    "### Lets combine all the code"
   ]
  },
  {
   "cell_type": "code",
   "execution_count": 33,
   "metadata": {},
   "outputs": [],
   "source": [
    "def K_Means_initialization(n_clusters, X, random_state):\n",
    "    #find min and max of each feature in data X\n",
    "    min_values=X.min(axis=0)\n",
    "    max_values=X.max(axis=0)\n",
    "    rng=np.random.RandomState(random_state) # Create random number generator with random_state reproductivity\n",
    "    centers=rng.rand(n_clusters, X.shape[1]) # Generate a matrix of random values between 0 and 1, with dimension n cluster x number of features\n",
    "    for k in range(0, X.shape[1]):\n",
    "        centers[:,k]=min_values[k]+(max_values[k]-min_values[k])*centers[:,k] # Scale random values to the range of features in data set \n",
    "    return centers"
   ]
  },
  {
   "cell_type": "code",
   "execution_count": 34,
   "metadata": {},
   "outputs": [],
   "source": [
    "def find_the_nearest_center(X, cluster_centers):\n",
    "    label_list=np.zeros(X.shape[0]) #Create list of zeros\n",
    "    for n in range(0, X.shape[0]):\n",
    "        sample_n=X[n:n+1] # Create 2D Matrix to keep format\n",
    "        dist_list=np.sqrt(((sample_n-cluster_centers)**2).sum(axis=1)) #Calculate Euclidean distance\n",
    "        label_list[n]=np.argmin(dist_list) #Assign index of nearest center (Min distance) to nth position of list from 0 to 5 to data point\n",
    "    return label_list"
   ]
  },
  {
   "cell_type": "code",
   "execution_count": 35,
   "metadata": {},
   "outputs": [],
   "source": [
    "def computer_center(n_clusters, X, labels):\n",
    "    Centers=np.zeros((n_clusters, X.shape[1])) #2D Array with n_clusters and X number of features\n",
    "    for k in range(0, n_clusters):\n",
    "        Centers[k]=X[labels==k].mean(axis=0) # Boolean mask to each data point and then calculate average of center\n",
    "    return Centers"
   ]
  },
  {
   "cell_type": "code",
   "execution_count": 36,
   "metadata": {},
   "outputs": [],
   "source": [
    "class MyKMeans:    \n",
    "    def __init__(self, n_clusters, max_iter=300, random_state=0): #Initialize variables \n",
    "        self.n_clusters = n_clusters\n",
    "        self.max_iter = max_iter\n",
    "        self.cluster_centers_ = None\n",
    "        self.labels_=None\n",
    "        self.random_state=random_state\n",
    "            \n",
    "    def initialize(self, X):\n",
    "        self.cluster_centers_ = K_Means_initialization(self.n_clusters, X, self.random_state) #Set initial clusters\n",
    "    \n",
    "    def fit(self, X):\n",
    "        #find the cluster centers of the data samples in X\n",
    "        #each row of X is a sample (feature vector)\n",
    "        self.initialize(X)\n",
    "        for n in range(0, self.max_iter):\n",
    "            self.labels_=find_the_nearest_center(X, self.cluster_centers_) #Assign points to nearest centers   #Update Labels\n",
    "            self.cluster_centers_ = computer_center(self.n_clusters, X, self.labels_) #Update cluster centers  #Update Centers\n",
    "    \n",
    "    def predict(self, X):\n",
    "        #predict the cluster labels of the data samples in X\n",
    "        #each row of X is a sample (feature vector)\n",
    "        labels=find_the_nearest_center(X, self.cluster_centers_) #Assing new data points to nearest clusters \n",
    "        return labels"
   ]
  },
  {
   "cell_type": "markdown",
   "metadata": {},
   "source": [
    "###  apply MyKMeans"
   ]
  },
  {
   "cell_type": "code",
   "execution_count": 37,
   "metadata": {},
   "outputs": [],
   "source": [
    "my_model=MyKMeans(n_clusters=3)\n",
    "my_model.fit(data)\n",
    "my_label=my_model.predict(data)"
   ]
  },
  {
   "cell_type": "code",
   "execution_count": 38,
   "metadata": {},
   "outputs": [
    {
     "data": {
      "text/plain": [
       "(3, 2)"
      ]
     },
     "execution_count": 38,
     "metadata": {},
     "output_type": "execute_result"
    }
   ],
   "source": [
    "my_centers=my_model.cluster_centers_\n",
    "my_centers.shape"
   ]
  },
  {
   "cell_type": "code",
   "execution_count": 39,
   "metadata": {},
   "outputs": [
    {
     "data": {
      "text/plain": [
       "[<matplotlib.lines.Line2D at 0x2eef9ec5700>]"
      ]
     },
     "execution_count": 39,
     "metadata": {},
     "output_type": "execute_result"
    },
    {
     "data": {
      "image/png": "[encoded data removed]",
      "text/plain": [
       "<Figure size 640x480 with 1 Axes>"
      ]
     },
     "metadata": {},
     "output_type": "display_data"
    }
   ],
   "source": [
    "fig, ax = plt.subplots()\n",
    "ax.plot(data[my_label==0, 0], data[my_label==0, 1], 'r.')\n",
    "ax.plot(data[my_label==1, 0], data[my_label==1, 1], 'g.')\n",
    "ax.plot(data[my_label==2, 0], data[my_label==2, 1], 'b.')\n",
    "ax.plot(my_centers[0,0], my_centers[0,1], 'rs', markersize=10)\n",
    "ax.plot(my_centers[1,0], my_centers[1,1], 'gs', markersize=10)\n",
    "ax.plot(my_centers[2,0], my_centers[2,1], 'bs', markersize=10)"
   ]
  },
  {
   "cell_type": "markdown",
   "metadata": {},
   "source": [
    "### Save MyKMeans to a .py file"
   ]
  },
  {
   "cell_type": "code",
   "execution_count": 40,
   "metadata": {},
   "outputs": [
    {
     "data": {
      "text/plain": [
       "[<matplotlib.lines.Line2D at 0x2eef9f32e40>]"
      ]
     },
     "execution_count": 40,
     "metadata": {},
     "output_type": "execute_result"
    },
    {
     "data": {
      "image/png": "[encoded data removed]",
      "text/plain": [
       "<Figure size 640x480 with 1 Axes>"
      ]
     },
     "metadata": {},
     "output_type": "display_data"
    }
   ],
   "source": [
    "from MyKmeans import MyKMeans\n",
    "\n",
    "my_model=MyKMeans(n_clusters=3)\n",
    "my_model.fit(data)\n",
    "my_label=my_model.predict(data)\n",
    "my_centers=my_model.cluster_centers_\n",
    "fig, ax = plt.subplots()\n",
    "ax.plot(data[my_label==0, 0], data[my_label==0, 1], 'r.')\n",
    "ax.plot(data[my_label==1, 0], data[my_label==1, 1], 'g.')\n",
    "ax.plot(data[my_label==2, 0], data[my_label==2, 1], 'b.')\n",
    "ax.plot(my_centers[0,0], my_centers[0,1], 'rs', markersize=10)\n",
    "ax.plot(my_centers[1,0], my_centers[1,1], 'gs', markersize=10)\n",
    "ax.plot(my_centers[2,0], my_centers[2,1], 'bs', markersize=10)"
   ]
  },
  {
   "cell_type": "markdown",
   "metadata": {},
   "source": [
    "### Show the steps with plots"
   ]
  },
  {
   "cell_type": "code",
   "execution_count": 41,
   "metadata": {},
   "outputs": [],
   "source": [
    "K=3\n",
    "center_1 = np.array([1,1])\n",
    "center_2 = np.array([5,5])\n",
    "center_3 = np.array([8,1])\n",
    "# Generate random data and center it to the three centers\n",
    "sigma=1.5\n",
    "cluster_1 = sigma*np.random.randn(100, 2) + center_1\n",
    "cluster_2 = sigma*np.random.randn(100,2) + center_2\n",
    "cluster_3 = sigma*np.random.randn(100,2) + center_3\n",
    "data = np.concatenate((cluster_1, cluster_2, cluster_3), axis = 0)"
   ]
  },
  {
   "cell_type": "code",
   "execution_count": 43,
   "metadata": {},
   "outputs": [
    {
     "data": {
      "text/plain": [
       "[<matplotlib.lines.Line2D at 0x2eefa1fbec0>]"
      ]
     },
     "execution_count": 43,
     "metadata": {},
     "output_type": "execute_result"
    },
    {
     "data": {
      "image/png": "[encoded data removed]",
      "text/plain": [
       "<Figure size 640x480 with 1 Axes>"
      ]
     },
     "metadata": {},
     "output_type": "display_data"
    }
   ],
   "source": [
    "cluster_centers = K_Means_initialization(3, data, 0)\n",
    "fig, ax = plt.subplots()\n",
    "ax.plot(data[:, 0], data[:, 1], 'k.')\n",
    "ax.plot(cluster_centers[0,0], cluster_centers[0,1], 'rs', markersize=10)\n",
    "ax.plot(cluster_centers[1,0], cluster_centers[1,1], 'gs', markersize=10)\n",
    "ax.plot(cluster_centers[2,0], cluster_centers[2,1], 'bs', markersize=10)"
   ]
  },
  {
   "cell_type": "code",
   "execution_count": 44,
   "metadata": {},
   "outputs": [
    {
     "data": {
      "image/png": "[encoded data removed]",
      "text/plain": [
       "<Figure size 600x600 with 1 Axes>"
      ]
     },
     "metadata": {},
     "output_type": "display_data"
    },
    {
     "data": {
      "image/png": "[encoded data removed]",
      "text/plain": [
       "<Figure size 600x600 with 1 Axes>"
      ]
     },
     "metadata": {},
     "output_type": "display_data"
    }
   ],
   "source": [
    "for n in range(0, 10):\n",
    "    labels=find_the_nearest_center(data,  cluster_centers)\n",
    "    cluster_centers = computer_center(3, data, labels)\n",
    "    fig, ax = plt.subplots(figsize=(6, 6))\n",
    "    ax.plot(data[labels==0, 0], data[labels==0, 1], 'r.')\n",
    "    ax.plot(data[labels==1, 0], data[labels==1, 1], 'g.')\n",
    "    ax.plot(data[labels==2, 0], data[labels==2, 1], 'b.')\n",
    "    ax.plot(cluster_centers[0,0], cluster_centers[0,1], 'rs', markersize=10)\n",
    "    ax.plot(cluster_centers[1,0], cluster_centers[1,1], 'gs', markersize=10)\n",
    "    ax.plot(cluster_centers[2,0], cluster_centers[2,1], 'bs', markersize=10)\n",
    "    ax.set_title('iteration '+str(n))\n",
    "    plt.draw()\n",
    "    display.clear_output(wait=True)\n",
    "    display.display(fig)\n",
    "    plt.pause(2)    "
   ]
  }
 ],
 "metadata": {
  "kernelspec": {
   "display_name": "Python [conda env:base] *",
   "language": "python",
   "name": "conda-base-py"
  },
  "language_info": {
   "codemirror_mode": {
    "name": "ipython",
    "version": 3
   },
   "file_extension": ".py",
   "mimetype": "text/x-python",
   "name": "python",
   "nbconvert_exporter": "python",
   "pygments_lexer": "ipython3",
   "version": "3.12.7"
  }
 },
 "nbformat": 4,
 "nbformat_minor": 4
}

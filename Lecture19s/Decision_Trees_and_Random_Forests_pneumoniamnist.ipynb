{
 "cells": [
  {
   "cell_type": "markdown",
   "metadata": {},
   "source": [
    "# Decision Trees and Random Forests for lung image classification"
   ]
  },
  {
   "cell_type": "code",
   "execution_count": 1,
   "metadata": {},
   "outputs": [],
   "source": [
    "%matplotlib inline\n",
    "import numpy as np\n",
    "import matplotlib.pyplot as plt\n",
    "import seaborn as sns; sns.set()"
   ]
  },
  {
   "cell_type": "markdown",
   "metadata": {},
   "source": [
    "## Data"
   ]
  },
  {
   "cell_type": "code",
   "execution_count": 2,
   "metadata": {},
   "outputs": [],
   "source": [
    "a=np.load('pneumoniamnist.npz')\n",
    "X_train=a['train_images']\n",
    "X_val=a['val_images']\n",
    "X_test=a['test_images']\n",
    "Y_train=a['train_labels']\n",
    "Y_val=a['val_labels']\n",
    "Y_test=a['test_labels']"
   ]
  },
  {
   "cell_type": "code",
   "execution_count": 3,
   "metadata": {},
   "outputs": [],
   "source": [
    "X_train = X_train.astype('float32')\n",
    "X_val = X_val.astype('float32')\n",
    "X_test = X_test.astype('float32')\n",
    "X_train /= 255\n",
    "X_val /= 255\n",
    "X_test /= 255"
   ]
  },
  {
   "cell_type": "code",
   "execution_count": 4,
   "metadata": {},
   "outputs": [
    {
     "name": "stdout",
     "output_type": "stream",
     "text": [
      "4708 training samples\n",
      "524 validation samples\n",
      "624 test samples\n"
     ]
    }
   ],
   "source": [
    "X_train = X_train.reshape(-1, 784)\n",
    "X_val = X_val.reshape(-1, 784)\n",
    "X_test = X_test.reshape(-1, 784)\n",
    "print(X_train.shape[0], 'training samples')\n",
    "print(X_val.shape[0], 'validation samples')\n",
    "print(X_test.shape[0], 'test samples')"
   ]
  },
  {
   "cell_type": "code",
   "execution_count": 5,
   "metadata": {},
   "outputs": [],
   "source": [
    "Y_train=Y_train.reshape(-1)"
   ]
  },
  {
   "cell_type": "code",
   "execution_count": 6,
   "metadata": {},
   "outputs": [],
   "source": [
    "Y_val=Y_val.reshape(-1)"
   ]
  },
  {
   "cell_type": "code",
   "execution_count": 7,
   "metadata": {},
   "outputs": [],
   "source": [
    "Y_test=Y_test.reshape(-1)"
   ]
  },
  {
   "cell_type": "code",
   "execution_count": 8,
   "metadata": {},
   "outputs": [
    {
     "data": {
      "image/png": "[encoded data removed]",
      "text/plain": [
       "<Figure size 216x216 with 1 Axes>"
      ]
     },
     "metadata": {},
     "output_type": "display_data"
    },
    {
     "data": {
      "text/plain": [
       "<Figure size 432x288 with 0 Axes>"
      ]
     },
     "metadata": {},
     "output_type": "display_data"
    }
   ],
   "source": [
    "from IPython import display\n",
    "fig, ax = plt.subplots(figsize=(3, 3))\n",
    "for n in range(0, Y_train.shape[0], 100):\n",
    "    I = X_train[n,:].reshape(28,28)\n",
    "    ax.imshow(I, cmap='gray')\n",
    "    ax.set_title('label: ' + str(int(Y_train[n])), fontsize=16)\n",
    "    ax.axis('off')\n",
    "    plt.draw()\n",
    "    display.clear_output(wait=True)\n",
    "    display.display(fig)\n",
    "    plt.pause(0.1) "
   ]
  },
  {
   "cell_type": "markdown",
   "metadata": {},
   "source": [
    "## Decision Tree"
   ]
  },
  {
   "cell_type": "code",
   "execution_count": 9,
   "metadata": {},
   "outputs": [],
   "source": [
    "from sklearn.tree import DecisionTreeClassifier\n",
    "DT = DecisionTreeClassifier(max_depth=100, random_state=0)\n",
    "DT.fit(X_train, Y_train)\n",
    "Y_test_pred_DT = DT.predict(X_test)"
   ]
  },
  {
   "cell_type": "code",
   "execution_count": 10,
   "metadata": {},
   "outputs": [
    {
     "data": {
      "text/plain": [
       "1.0"
      ]
     },
     "execution_count": 10,
     "metadata": {},
     "output_type": "execute_result"
    }
   ],
   "source": [
    "DT.score(X_train, Y_train)"
   ]
  },
  {
   "cell_type": "code",
   "execution_count": 11,
   "metadata": {},
   "outputs": [
    {
     "data": {
      "text/plain": [
       "0.8108974358974359"
      ]
     },
     "execution_count": 11,
     "metadata": {},
     "output_type": "execute_result"
    }
   ],
   "source": [
    "DT.score(X_test, Y_test)"
   ]
  },
  {
   "cell_type": "code",
   "execution_count": 12,
   "metadata": {},
   "outputs": [
    {
     "data": {
      "image/png": "[encoded data removed]",
      "text/plain": [
       "<Figure size 432x288 with 1 Axes>"
      ]
     },
     "metadata": {},
     "output_type": "display_data"
    }
   ],
   "source": [
    "from sklearn.metrics import confusion_matrix\n",
    "mat = confusion_matrix(Y_test, Y_test_pred_DT)\n",
    "sns.heatmap(mat.T, square=True, annot=True, cbar=False)\n",
    "plt.xlabel('true label')\n",
    "plt.ylabel('predicted label');"
   ]
  },
  {
   "cell_type": "markdown",
   "metadata": {},
   "source": [
    "### Find the best hypyer-parameters of DT"
   ]
  },
  {
   "cell_type": "code",
   "execution_count": 13,
   "metadata": {},
   "outputs": [
    {
     "data": {
      "text/plain": [
       "array([ 1,  6, 11, 16, 21, 26, 31, 36, 41, 46, 51, 56, 61, 66, 71, 76, 81,\n",
       "       86, 91, 96])"
      ]
     },
     "execution_count": 13,
     "metadata": {},
     "output_type": "execute_result"
    }
   ],
   "source": [
    "max_depth_list=np.arange(1, 100, 5)\n",
    "max_depth_list"
   ]
  },
  {
   "cell_type": "code",
   "execution_count": 14,
   "metadata": {},
   "outputs": [
    {
     "name": "stdout",
     "output_type": "stream",
     "text": [
      "max_depth 1 acc_val 0.8034351145038168\n",
      "max_depth 6 acc_val 0.916030534351145\n",
      "max_depth 11 acc_val 0.9198473282442748\n",
      "max_depth 16 acc_val 0.916030534351145\n",
      "max_depth 21 acc_val 0.9179389312977099\n",
      "max_depth 26 acc_val 0.9198473282442748\n",
      "max_depth 31 acc_val 0.9198473282442748\n",
      "max_depth 36 acc_val 0.9198473282442748\n",
      "max_depth 41 acc_val 0.9198473282442748\n",
      "max_depth 46 acc_val 0.9198473282442748\n",
      "max_depth 51 acc_val 0.9198473282442748\n",
      "max_depth 56 acc_val 0.9198473282442748\n",
      "max_depth 61 acc_val 0.9198473282442748\n",
      "max_depth 66 acc_val 0.9198473282442748\n",
      "max_depth 71 acc_val 0.9198473282442748\n",
      "max_depth 76 acc_val 0.9198473282442748\n",
      "max_depth 81 acc_val 0.9198473282442748\n",
      "max_depth 86 acc_val 0.9198473282442748\n",
      "max_depth 91 acc_val 0.9198473282442748\n",
      "max_depth 96 acc_val 0.9198473282442748\n"
     ]
    }
   ],
   "source": [
    "acc_train_list=[]\n",
    "acc_val_list=[]\n",
    "for max_depth in max_depth_list:\n",
    "    DT = DecisionTreeClassifier(max_depth=max_depth, random_state=0)\n",
    "    DT.fit(X_train, Y_train)\n",
    "    acc_train=DT.score(X_train, Y_train)\n",
    "    acc_train_list.append(acc_train)\n",
    "    acc_val=DT.score(X_val, Y_val)\n",
    "    acc_val_list.append(acc_val)\n",
    "    print(\"max_depth\", max_depth, \"acc_val\", acc_val)"
   ]
  },
  {
   "cell_type": "code",
   "execution_count": 15,
   "metadata": {},
   "outputs": [
    {
     "data": {
      "text/plain": [
       "Text(0, 0.5, 'acc_val')"
      ]
     },
     "execution_count": 15,
     "metadata": {},
     "output_type": "execute_result"
    },
    {
     "data": {
      "image/png": "[encoded data removed]",
      "text/plain": [
       "<Figure size 432x288 with 1 Axes>"
      ]
     },
     "metadata": {},
     "output_type": "display_data"
    }
   ],
   "source": [
    "plt.plot(max_depth_list, acc_val_list, '-r')\n",
    "plt.title('max_depth vs acc_val')\n",
    "plt.xlabel('max_depth')\n",
    "plt.ylabel('acc_val')"
   ]
  },
  {
   "cell_type": "code",
   "execution_count": 16,
   "metadata": {},
   "outputs": [],
   "source": [
    "max_depth_best=26"
   ]
  },
  {
   "cell_type": "code",
   "execution_count": 17,
   "metadata": {},
   "outputs": [
    {
     "data": {
      "text/plain": [
       "DecisionTreeClassifier(max_depth=26, random_state=0)"
      ]
     },
     "execution_count": 17,
     "metadata": {},
     "output_type": "execute_result"
    }
   ],
   "source": [
    "DT = DecisionTreeClassifier(max_depth=max_depth_best, random_state=0)\n",
    "DT.fit(X_train, Y_train)"
   ]
  },
  {
   "cell_type": "code",
   "execution_count": 18,
   "metadata": {},
   "outputs": [
    {
     "data": {
      "text/plain": [
       "1.0"
      ]
     },
     "execution_count": 18,
     "metadata": {},
     "output_type": "execute_result"
    }
   ],
   "source": [
    "DT.score(X_train, Y_train)"
   ]
  },
  {
   "cell_type": "code",
   "execution_count": 19,
   "metadata": {},
   "outputs": [
    {
     "data": {
      "text/plain": [
       "0.8108974358974359"
      ]
     },
     "execution_count": 19,
     "metadata": {},
     "output_type": "execute_result"
    }
   ],
   "source": [
    "DT.score(X_test, Y_test)"
   ]
  },
  {
   "cell_type": "markdown",
   "metadata": {},
   "source": [
    "## Random Forest"
   ]
  },
  {
   "cell_type": "code",
   "execution_count": 20,
   "metadata": {},
   "outputs": [
    {
     "data": {
      "text/plain": [
       "RandomForestClassifier(max_depth=100, max_samples=0.8, random_state=0)"
      ]
     },
     "execution_count": 20,
     "metadata": {},
     "output_type": "execute_result"
    }
   ],
   "source": [
    "from sklearn.ensemble import RandomForestClassifier\n",
    "RF = RandomForestClassifier(n_estimators=100, max_samples=0.8, max_depth=100, random_state=0)\n",
    "RF.fit(X_train, Y_train)"
   ]
  },
  {
   "cell_type": "code",
   "execution_count": 21,
   "metadata": {},
   "outputs": [],
   "source": [
    "Y_test_pred_RF = RF.predict(X_test)"
   ]
  },
  {
   "cell_type": "code",
   "execution_count": 22,
   "metadata": {},
   "outputs": [
    {
     "data": {
      "text/plain": [
       "1.0"
      ]
     },
     "execution_count": 22,
     "metadata": {},
     "output_type": "execute_result"
    }
   ],
   "source": [
    "RF.score(X_train, Y_train)"
   ]
  },
  {
   "cell_type": "code",
   "execution_count": 23,
   "metadata": {},
   "outputs": [
    {
     "data": {
      "text/plain": [
       "0.8573717948717948"
      ]
     },
     "execution_count": 23,
     "metadata": {},
     "output_type": "execute_result"
    }
   ],
   "source": [
    "RF.score(X_test, Y_test)"
   ]
  },
  {
   "cell_type": "markdown",
   "metadata": {},
   "source": [
    "And for good measure, plot the confusion matrix:"
   ]
  },
  {
   "cell_type": "code",
   "execution_count": 24,
   "metadata": {},
   "outputs": [
    {
     "data": {
      "image/png": "[encoded data removed]",
      "text/plain": [
       "<Figure size 432x288 with 1 Axes>"
      ]
     },
     "metadata": {},
     "output_type": "display_data"
    }
   ],
   "source": [
    "from sklearn.metrics import confusion_matrix\n",
    "mat = confusion_matrix(Y_test, Y_test_pred_RF)\n",
    "sns.heatmap(mat.T, square=True, annot=True, cbar=False)\n",
    "plt.xlabel('true label')\n",
    "plt.ylabel('predicted label');"
   ]
  },
  {
   "cell_type": "markdown",
   "metadata": {},
   "source": [
    "## Find the best hyper-parameters of RF"
   ]
  },
  {
   "cell_type": "code",
   "execution_count": 32,
   "metadata": {},
   "outputs": [
    {
     "data": {
      "text/plain": [
       "array([  1,  11,  21,  31,  41,  51,  61,  71,  81,  91, 101, 111, 121,\n",
       "       131, 141, 151, 161, 171, 181, 191])"
      ]
     },
     "execution_count": 32,
     "metadata": {},
     "output_type": "execute_result"
    }
   ],
   "source": [
    "max_depth_list=np.arange(1, 200, 10)\n",
    "max_depth_list"
   ]
  },
  {
   "cell_type": "code",
   "execution_count": 33,
   "metadata": {},
   "outputs": [
    {
     "name": "stdout",
     "output_type": "stream",
     "text": [
      "max_depth 1 acc_val 0.8282442748091603\n",
      "max_depth 11 acc_val 0.9522900763358778\n",
      "max_depth 21 acc_val 0.9599236641221374\n",
      "max_depth 31 acc_val 0.9599236641221374\n",
      "max_depth 41 acc_val 0.9599236641221374\n",
      "max_depth 51 acc_val 0.9599236641221374\n",
      "max_depth 61 acc_val 0.9599236641221374\n",
      "max_depth 71 acc_val 0.9599236641221374\n",
      "max_depth 81 acc_val 0.9599236641221374\n",
      "max_depth 91 acc_val 0.9599236641221374\n",
      "max_depth 101 acc_val 0.9599236641221374\n",
      "max_depth 111 acc_val 0.9599236641221374\n",
      "max_depth 121 acc_val 0.9599236641221374\n",
      "max_depth 131 acc_val 0.9599236641221374\n",
      "max_depth 141 acc_val 0.9599236641221374\n",
      "max_depth 151 acc_val 0.9599236641221374\n",
      "max_depth 161 acc_val 0.9599236641221374\n",
      "max_depth 171 acc_val 0.9599236641221374\n",
      "max_depth 181 acc_val 0.9599236641221374\n",
      "max_depth 191 acc_val 0.9599236641221374\n"
     ]
    }
   ],
   "source": [
    "acc_train_list=[]\n",
    "acc_val_list=[]\n",
    "for max_depth in max_depth_list:\n",
    "    RF = RandomForestClassifier(n_estimators=100, max_samples=0.8, max_depth=max_depth, random_state=0)\n",
    "    RF.fit(X_train, Y_train)\n",
    "    acc_train=RF.score(X_train, Y_train)\n",
    "    acc_train_list.append(acc_train)\n",
    "    acc_val=RF.score(X_val, Y_val)\n",
    "    acc_val_list.append(acc_val)\n",
    "    print(\"max_depth\", max_depth, \"acc_val\", acc_val)"
   ]
  },
  {
   "cell_type": "code",
   "execution_count": 27,
   "metadata": {},
   "outputs": [
    {
     "data": {
      "text/plain": [
       "Text(0, 0.5, 'acc_val')"
      ]
     },
     "execution_count": 27,
     "metadata": {},
     "output_type": "execute_result"
    },
    {
     "data": {
      "image/png": "[encoded data removed]",
      "text/plain": [
       "<Figure size 432x288 with 1 Axes>"
      ]
     },
     "metadata": {},
     "output_type": "display_data"
    }
   ],
   "source": [
    "plt.plot(max_depth_list, acc_val_list, '-r')\n",
    "plt.title('max_depth vs acc_val')\n",
    "plt.xlabel('max_depth')\n",
    "plt.ylabel('acc_val')"
   ]
  },
  {
   "cell_type": "code",
   "execution_count": 34,
   "metadata": {},
   "outputs": [],
   "source": [
    "max_depth_best=21"
   ]
  },
  {
   "cell_type": "code",
   "execution_count": 35,
   "metadata": {},
   "outputs": [
    {
     "data": {
      "text/plain": [
       "RandomForestClassifier(max_depth=21, max_samples=0.8, random_state=0)"
      ]
     },
     "execution_count": 35,
     "metadata": {},
     "output_type": "execute_result"
    }
   ],
   "source": [
    "RF = RandomForestClassifier(n_estimators=100, max_samples=0.8, max_depth=max_depth_best, random_state=0)\n",
    "RF.fit(X_train, Y_train)"
   ]
  },
  {
   "cell_type": "code",
   "execution_count": 36,
   "metadata": {},
   "outputs": [
    {
     "data": {
      "text/plain": [
       "1.0"
      ]
     },
     "execution_count": 36,
     "metadata": {},
     "output_type": "execute_result"
    }
   ],
   "source": [
    "RF.score(X_train, Y_train)"
   ]
  },
  {
   "cell_type": "code",
   "execution_count": 37,
   "metadata": {},
   "outputs": [
    {
     "data": {
      "text/plain": [
       "0.8589743589743589"
      ]
     },
     "execution_count": 37,
     "metadata": {},
     "output_type": "execute_result"
    }
   ],
   "source": [
    "RF.score(X_test, Y_test)"
   ]
  },
  {
   "cell_type": "code",
   "execution_count": null,
   "metadata": {},
   "outputs": [],
   "source": []
  }
 ],
 "metadata": {
  "anaconda-cloud": {},
  "kernelspec": {
   "display_name": "Python 3 (ipykernel)",
   "language": "python",
   "name": "python3"
  },
  "language_info": {
   "codemirror_mode": {
    "name": "ipython",
    "version": 3
   },
   "file_extension": ".py",
   "mimetype": "text/x-python",
   "name": "python",
   "nbconvert_exporter": "python",
   "pygments_lexer": "ipython3",
   "version": "3.9.13"
  }
 },
 "nbformat": 4,
 "nbformat_minor": 1
}

{
 "cells": [
  {
   "cell_type": "markdown",
   "metadata": {},
   "source": [
    "## Binary Classification using a neural network with Keras\n",
    "using binary_crossentropy loss in Keras"
   ]
  },
  {
   "cell_type": "code",
   "execution_count": 1,
   "metadata": {},
   "outputs": [],
   "source": [
    "from tensorflow.keras.models import Sequential\n",
    "from tensorflow.keras.layers import Dense\n",
    "from tensorflow.keras.optimizers import SGD, Adamax\n",
    "import matplotlib.pyplot as plt\n",
    "from IPython import display\n",
    "import numpy as np"
   ]
  },
  {
   "cell_type": "code",
   "execution_count": 2,
   "metadata": {},
   "outputs": [
    {
     "data": {
      "text/plain": [
       "'2.14.0'"
      ]
     },
     "execution_count": 2,
     "metadata": {},
     "output_type": "execute_result"
    }
   ],
   "source": [
    "import tensorflow\n",
    "tensorflow.__version__"
   ]
  },
  {
   "cell_type": "markdown",
   "metadata": {},
   "source": [
    "### Load the data"
   ]
  },
  {
   "cell_type": "code",
   "execution_count": 3,
   "metadata": {},
   "outputs": [],
   "source": [
    "data=np.load('pneumoniamnist.npz')"
   ]
  },
  {
   "cell_type": "code",
   "execution_count": 4,
   "metadata": {},
   "outputs": [],
   "source": [
    "x_train=data['train_images']\n",
    "x_val=data['val_images']\n",
    "x_test=data['test_images']\n",
    "y_train=data['train_labels']\n",
    "y_val=data['val_labels']\n",
    "y_test=data['test_labels']"
   ]
  },
  {
   "cell_type": "code",
   "execution_count": 5,
   "metadata": {},
   "outputs": [
    {
     "data": {
      "text/plain": [
       "(28, 28)"
      ]
     },
     "execution_count": 5,
     "metadata": {},
     "output_type": "execute_result"
    }
   ],
   "source": [
    "x_train[0].shape"
   ]
  },
  {
   "cell_type": "code",
   "execution_count": 6,
   "metadata": {},
   "outputs": [
    {
     "data": {
      "text/plain": [
       "225.0"
      ]
     },
     "execution_count": 6,
     "metadata": {},
     "output_type": "execute_result"
    }
   ],
   "source": [
    "x_train[0].max()"
   ]
  },
  {
   "cell_type": "code",
   "execution_count": 7,
   "metadata": {},
   "outputs": [],
   "source": [
    "x_train = x_train.astype('float32')\n",
    "x_val = x_val.astype('float32')\n",
    "x_test = x_test.astype('float32')\n",
    "x_train /= 255\n",
    "x_val /= 255\n",
    "x_test /= 255"
   ]
  },
  {
   "cell_type": "code",
   "execution_count": 8,
   "metadata": {},
   "outputs": [
    {
     "name": "stdout",
     "output_type": "stream",
     "text": [
      "4708 training samples\n",
      "524 validation samples\n",
      "624 test samples\n"
     ]
    }
   ],
   "source": [
    "x_train = x_train.reshape(-1, 784)\n",
    "x_val = x_val.reshape(-1, 784)\n",
    "x_test = x_test.reshape(-1, 784)\n",
    "print(x_train.shape[0], 'training samples')\n",
    "print(x_val.shape[0], 'validation samples')\n",
    "print(x_test.shape[0], 'test samples')"
   ]
  },
  {
   "cell_type": "code",
   "execution_count": 9,
   "metadata": {},
   "outputs": [],
   "source": [
    "y_train = y_train.reshape(-1)\n",
    "y_val = y_val.reshape(-1)\n",
    "y_test = y_test.reshape(-1)"
   ]
  },
  {
   "cell_type": "markdown",
   "metadata": {},
   "source": [
    "### Show the images"
   ]
  },
  {
   "cell_type": "code",
   "execution_count": 10,
   "metadata": {},
   "outputs": [
    {
     "data": {
      "image/png": "[encoded data removed]",
      "text/plain": [
       "<Figure size 300x300 with 1 Axes>"
      ]
     },
     "metadata": {},
     "output_type": "display_data"
    },
    {
     "data": {
      "text/plain": [
       "<Figure size 640x480 with 0 Axes>"
      ]
     },
     "metadata": {},
     "output_type": "display_data"
    }
   ],
   "source": [
    "fig, ax = plt.subplots(figsize=(3, 3))\n",
    "for n in range(0, x_train.shape[0], 100):\n",
    "    I = x_train[n,:].reshape(28,28)\n",
    "    ax.imshow(I, cmap='gray')\n",
    "    ax.set_title('label: ' + str(int(y_train[n])), fontsize=16)\n",
    "    ax.axis('off')\n",
    "    plt.draw()\n",
    "    display.clear_output(wait=True)\n",
    "    display.display(fig)\n",
    "    plt.pause(1) "
   ]
  },
  {
   "cell_type": "code",
   "execution_count": 11,
   "metadata": {},
   "outputs": [
    {
     "data": {
      "text/plain": [
       "<matplotlib.image.AxesImage at 0x29d8a6fc390>"
      ]
     },
     "execution_count": 11,
     "metadata": {},
     "output_type": "execute_result"
    },
    {
     "data": {
      "image/png": "[encoded data removed]",
      "text/plain": [
       "<Figure size 640x480 with 1 Axes>"
      ]
     },
     "metadata": {},
     "output_type": "display_data"
    }
   ],
   "source": [
    "#the first image in the training set\n",
    "plt.imshow(x_train[0].reshape(28,28), cmap='gray')"
   ]
  },
  {
   "cell_type": "code",
   "execution_count": 12,
   "metadata": {},
   "outputs": [
    {
     "data": {
      "text/plain": [
       "1.0"
      ]
     },
     "execution_count": 12,
     "metadata": {},
     "output_type": "execute_result"
    }
   ],
   "source": [
    "#the class label of the first training sample\n",
    "y_train[0]"
   ]
  },
  {
   "cell_type": "markdown",
   "metadata": {},
   "source": [
    "## Try logistiRegression"
   ]
  },
  {
   "cell_type": "code",
   "execution_count": 13,
   "metadata": {},
   "outputs": [],
   "source": [
    "from sklearn.linear_model import LogisticRegression"
   ]
  },
  {
   "cell_type": "code",
   "execution_count": 14,
   "metadata": {},
   "outputs": [
    {
     "name": "stderr",
     "output_type": "stream",
     "text": [
      "C:\\Users\\liang\\.conda\\envs\\tensorflow\\Lib\\site-packages\\scipy\\optimize\\_linesearch.py:314: LineSearchWarning: The line search algorithm did not converge\n",
      "  warn('The line search algorithm did not converge', LineSearchWarning)\n",
      "C:\\Users\\liang\\.conda\\envs\\tensorflow\\Lib\\site-packages\\sklearn\\utils\\optimize.py:204: UserWarning: Line Search failed\n",
      "  warnings.warn(\"Line Search failed\")\n"
     ]
    },
    {
     "data": {
      "text/html": [
       "<style>#sk-container-id-1 {color: black;}#sk-container-id-1 pre{padding: 0;}#sk-container-id-1 div.sk-toggleable {background-color: white;}#sk-container-id-1 label.sk-toggleable__label {cursor: pointer;display: block;width: 100%;margin-bottom: 0;padding: 0.3em;box-sizing: border-box;text-align: center;}#sk-container-id-1 label.sk-toggleable__label-arrow:before {content: \"▸\";float: left;margin-right: 0.25em;color: #696969;}#sk-container-id-1 label.sk-toggleable__label-arrow:hover:before {color: black;}#sk-container-id-1 div.sk-estimator:hover label.sk-toggleable__label-arrow:before {color: black;}#sk-container-id-1 div.sk-toggleable__content {max-height: 0;max-width: 0;overflow: hidden;text-align: left;background-color: #f0f8ff;}#sk-container-id-1 div.sk-toggleable__content pre {margin: 0.2em;color: black;border-radius: 0.25em;background-color: #f0f8ff;}#sk-container-id-1 input.sk-toggleable__control:checked~div.sk-toggleable__content {max-height: 200px;max-width: 100%;overflow: auto;}#sk-container-id-1 input.sk-toggleable__control:checked~label.sk-toggleable__label-arrow:before {content: \"▾\";}#sk-container-id-1 div.sk-estimator input.sk-toggleable__control:checked~label.sk-toggleable__label {background-color: #d4ebff;}#sk-container-id-1 div.sk-label input.sk-toggleable__control:checked~label.sk-toggleable__label {background-color: #d4ebff;}#sk-container-id-1 input.sk-hidden--visually {border: 0;clip: rect(1px 1px 1px 1px);clip: rect(1px, 1px, 1px, 1px);height: 1px;margin: -1px;overflow: hidden;padding: 0;position: absolute;width: 1px;}#sk-container-id-1 div.sk-estimator {font-family: monospace;background-color: #f0f8ff;border: 1px dotted black;border-radius: 0.25em;box-sizing: border-box;margin-bottom: 0.5em;}#sk-container-id-1 div.sk-estimator:hover {background-color: #d4ebff;}#sk-container-id-1 div.sk-parallel-item::after {content: \"\";width: 100%;border-bottom: 1px solid gray;flex-grow: 1;}#sk-container-id-1 div.sk-label:hover label.sk-toggleable__label {background-color: #d4ebff;}#sk-container-id-1 div.sk-serial::before {content: \"\";position: absolute;border-left: 1px solid gray;box-sizing: border-box;top: 0;bottom: 0;left: 50%;z-index: 0;}#sk-container-id-1 div.sk-serial {display: flex;flex-direction: column;align-items: center;background-color: white;padding-right: 0.2em;padding-left: 0.2em;position: relative;}#sk-container-id-1 div.sk-item {position: relative;z-index: 1;}#sk-container-id-1 div.sk-parallel {display: flex;align-items: stretch;justify-content: center;background-color: white;position: relative;}#sk-container-id-1 div.sk-item::before, #sk-container-id-1 div.sk-parallel-item::before {content: \"\";position: absolute;border-left: 1px solid gray;box-sizing: border-box;top: 0;bottom: 0;left: 50%;z-index: -1;}#sk-container-id-1 div.sk-parallel-item {display: flex;flex-direction: column;z-index: 1;position: relative;background-color: white;}#sk-container-id-1 div.sk-parallel-item:first-child::after {align-self: flex-end;width: 50%;}#sk-container-id-1 div.sk-parallel-item:last-child::after {align-self: flex-start;width: 50%;}#sk-container-id-1 div.sk-parallel-item:only-child::after {width: 0;}#sk-container-id-1 div.sk-dashed-wrapped {border: 1px dashed gray;margin: 0 0.4em 0.5em 0.4em;box-sizing: border-box;padding-bottom: 0.4em;background-color: white;}#sk-container-id-1 div.sk-label label {font-family: monospace;font-weight: bold;display: inline-block;line-height: 1.2em;}#sk-container-id-1 div.sk-label-container {text-align: center;}#sk-container-id-1 div.sk-container {/* jupyter's `normalize.less` sets `[hidden] { display: none; }` but bootstrap.min.css set `[hidden] { display: none !important; }` so we also need the `!important` here to be able to override the default hidden behavior on the sphinx rendered scikit-learn.org. See: https://github.com/scikit-learn/scikit-learn/issues/21755 */display: inline-block !important;position: relative;}#sk-container-id-1 div.sk-text-repr-fallback {display: none;}</style><div id=\"sk-container-id-1\" class=\"sk-top-container\"><div class=\"sk-text-repr-fallback\"><pre>LogisticRegression(solver=&#x27;newton-cg&#x27;)</pre><b>In a Jupyter environment, please rerun this cell to show the HTML representation or trust the notebook. <br />On GitHub, the HTML representation is unable to render, please try loading this page with nbviewer.org.</b></div><div class=\"sk-container\" hidden><div class=\"sk-item\"><div class=\"sk-estimator sk-toggleable\"><input class=\"sk-toggleable__control sk-hidden--visually\" id=\"sk-estimator-id-1\" type=\"checkbox\" checked><label for=\"sk-estimator-id-1\" class=\"sk-toggleable__label sk-toggleable__label-arrow\">LogisticRegression</label><div class=\"sk-toggleable__content\"><pre>LogisticRegression(solver=&#x27;newton-cg&#x27;)</pre></div></div></div></div></div>"
      ],
      "text/plain": [
       "LogisticRegression(solver='newton-cg')"
      ]
     },
     "execution_count": 14,
     "metadata": {},
     "output_type": "execute_result"
    }
   ],
   "source": [
    "LR=LogisticRegression(solver='newton-cg')\n",
    "LR.fit(x_train, y_train)"
   ]
  },
  {
   "cell_type": "code",
   "execution_count": 15,
   "metadata": {},
   "outputs": [
    {
     "data": {
      "text/plain": [
       "0.8461538461538461"
      ]
     },
     "execution_count": 15,
     "metadata": {},
     "output_type": "execute_result"
    }
   ],
   "source": [
    "LR.score(x_test, y_test)"
   ]
  },
  {
   "cell_type": "markdown",
   "metadata": {},
   "source": [
    "### Define the MLP model"
   ]
  },
  {
   "cell_type": "code",
   "execution_count": 16,
   "metadata": {},
   "outputs": [
    {
     "name": "stdout",
     "output_type": "stream",
     "text": [
      "Model: \"sequential\"\n",
      "_________________________________________________________________\n",
      " Layer (type)                Output Shape              Param #   \n",
      "=================================================================\n",
      " dense (Dense)               (None, 256)               200960    \n",
      "                                                                 \n",
      " dense_1 (Dense)             (None, 256)               65792     \n",
      "                                                                 \n",
      " dense_2 (Dense)             (None, 1)                 257       \n",
      "                                                                 \n",
      "=================================================================\n",
      "Total params: 267009 (1.02 MB)\n",
      "Trainable params: 267009 (1.02 MB)\n",
      "Non-trainable params: 0 (0.00 Byte)\n",
      "_________________________________________________________________\n"
     ]
    }
   ],
   "source": [
    "model = Sequential()\n",
    "model.add(Dense(units=256, activation='relu', input_shape=(784,)))\n",
    "model.add(Dense(units=256, activation='relu'))\n",
    "model.add(Dense(units=1,  activation='sigmoid'))\n",
    "model.compile(loss='binary_crossentropy', optimizer=Adamax(learning_rate=0.01),\n",
    "              metrics=['accuracy'])\n",
    "model.summary()"
   ]
  },
  {
   "cell_type": "code",
   "execution_count": 17,
   "metadata": {},
   "outputs": [],
   "source": [
    "loss_train_list=[]\n",
    "loss_val_list=[]\n",
    "acc_train_list=[]\n",
    "acc_val_list=[]"
   ]
  },
  {
   "cell_type": "markdown",
   "metadata": {},
   "source": [
    "### Train the model\n",
    "https://keras.io/getting-started/faq/#how-can-i-save-a-keras-model"
   ]
  },
  {
   "cell_type": "code",
   "execution_count": 18,
   "metadata": {
    "scrolled": false
   },
   "outputs": [
    {
     "name": "stdout",
     "output_type": "stream",
     "text": [
      "epoch 0\n",
      "74/74 [==============================] - 1s 5ms/step - loss: 0.6877 - accuracy: 0.7770 - val_loss: 0.2490 - val_accuracy: 0.8760\n",
      "epoch 1\n",
      "74/74 [==============================] - 0s 4ms/step - loss: 0.2087 - accuracy: 0.9127 - val_loss: 0.2693 - val_accuracy: 0.8798\n",
      "epoch 2\n",
      "74/74 [==============================] - 0s 3ms/step - loss: 0.1629 - accuracy: 0.9378 - val_loss: 0.4118 - val_accuracy: 0.8435\n",
      "epoch 3\n",
      "74/74 [==============================] - 0s 4ms/step - loss: 0.1693 - accuracy: 0.9312 - val_loss: 0.1560 - val_accuracy: 0.9466\n",
      "epoch 4\n",
      "74/74 [==============================] - 0s 4ms/step - loss: 0.1419 - accuracy: 0.9424 - val_loss: 0.2030 - val_accuracy: 0.9237\n",
      "epoch 5\n",
      "74/74 [==============================] - 0s 4ms/step - loss: 0.1636 - accuracy: 0.9337 - val_loss: 0.1460 - val_accuracy: 0.9523\n",
      "epoch 6\n",
      "74/74 [==============================] - 0s 4ms/step - loss: 0.1406 - accuracy: 0.9458 - val_loss: 0.1280 - val_accuracy: 0.9542\n",
      "epoch 7\n",
      "74/74 [==============================] - 0s 4ms/step - loss: 0.1488 - accuracy: 0.9429 - val_loss: 0.4845 - val_accuracy: 0.7882\n",
      "epoch 8\n",
      "74/74 [==============================] - 0s 3ms/step - loss: 0.1604 - accuracy: 0.9361 - val_loss: 0.1435 - val_accuracy: 0.9542\n",
      "epoch 9\n",
      "74/74 [==============================] - 0s 4ms/step - loss: 0.1297 - accuracy: 0.9522 - val_loss: 0.1247 - val_accuracy: 0.9542\n",
      "epoch 10\n",
      "74/74 [==============================] - 0s 4ms/step - loss: 0.1303 - accuracy: 0.9492 - val_loss: 0.1254 - val_accuracy: 0.9523\n",
      "epoch 11\n",
      "74/74 [==============================] - 0s 4ms/step - loss: 0.1257 - accuracy: 0.9528 - val_loss: 0.1261 - val_accuracy: 0.9504\n",
      "epoch 12\n",
      "74/74 [==============================] - 0s 4ms/step - loss: 0.1262 - accuracy: 0.9520 - val_loss: 0.1225 - val_accuracy: 0.9523\n",
      "epoch 13\n",
      "74/74 [==============================] - 0s 4ms/step - loss: 0.1217 - accuracy: 0.9524 - val_loss: 0.1219 - val_accuracy: 0.9523\n",
      "epoch 14\n",
      "74/74 [==============================] - 0s 4ms/step - loss: 0.1364 - accuracy: 0.9437 - val_loss: 0.1240 - val_accuracy: 0.9542\n",
      "epoch 15\n",
      "74/74 [==============================] - 0s 4ms/step - loss: 0.1359 - accuracy: 0.9477 - val_loss: 0.1591 - val_accuracy: 0.9447\n",
      "epoch 16\n",
      "74/74 [==============================] - 0s 4ms/step - loss: 0.1376 - accuracy: 0.9477 - val_loss: 0.1615 - val_accuracy: 0.9351\n",
      "epoch 17\n",
      "74/74 [==============================] - 0s 4ms/step - loss: 0.1526 - accuracy: 0.9382 - val_loss: 0.1336 - val_accuracy: 0.9542\n",
      "epoch 18\n",
      "74/74 [==============================] - 0s 4ms/step - loss: 0.1240 - accuracy: 0.9505 - val_loss: 0.1471 - val_accuracy: 0.9523\n",
      "epoch 19\n",
      "74/74 [==============================] - 0s 4ms/step - loss: 0.1155 - accuracy: 0.9575 - val_loss: 0.1470 - val_accuracy: 0.9389\n",
      "epoch 20\n",
      "74/74 [==============================] - 0s 4ms/step - loss: 0.1414 - accuracy: 0.9473 - val_loss: 0.1417 - val_accuracy: 0.9466\n",
      "epoch 21\n",
      "74/74 [==============================] - 0s 4ms/step - loss: 0.1207 - accuracy: 0.9550 - val_loss: 0.1214 - val_accuracy: 0.9542\n",
      "epoch 22\n",
      "74/74 [==============================] - 0s 4ms/step - loss: 0.1369 - accuracy: 0.9484 - val_loss: 0.1255 - val_accuracy: 0.9504\n",
      "epoch 23\n",
      "74/74 [==============================] - 0s 4ms/step - loss: 0.1200 - accuracy: 0.9545 - val_loss: 0.1188 - val_accuracy: 0.9523\n",
      "epoch 24\n",
      "74/74 [==============================] - 0s 4ms/step - loss: 0.1195 - accuracy: 0.9499 - val_loss: 0.1167 - val_accuracy: 0.9561\n",
      "epoch 25\n",
      "74/74 [==============================] - 0s 4ms/step - loss: 0.1266 - accuracy: 0.9522 - val_loss: 0.1422 - val_accuracy: 0.9485\n",
      "epoch 26\n",
      "74/74 [==============================] - 0s 4ms/step - loss: 0.1418 - accuracy: 0.9441 - val_loss: 0.1260 - val_accuracy: 0.9504\n",
      "epoch 27\n",
      "74/74 [==============================] - 0s 4ms/step - loss: 0.1251 - accuracy: 0.9509 - val_loss: 0.1174 - val_accuracy: 0.9542\n",
      "epoch 28\n",
      "74/74 [==============================] - 0s 4ms/step - loss: 0.1102 - accuracy: 0.9594 - val_loss: 0.1604 - val_accuracy: 0.9370\n",
      "epoch 29\n",
      "74/74 [==============================] - 0s 4ms/step - loss: 0.1118 - accuracy: 0.9575 - val_loss: 0.1242 - val_accuracy: 0.9485\n",
      "epoch 30\n",
      "74/74 [==============================] - 0s 4ms/step - loss: 0.1102 - accuracy: 0.9594 - val_loss: 0.1153 - val_accuracy: 0.9561\n",
      "epoch 31\n",
      "74/74 [==============================] - 0s 4ms/step - loss: 0.1178 - accuracy: 0.9528 - val_loss: 0.1219 - val_accuracy: 0.9523\n",
      "epoch 32\n",
      "74/74 [==============================] - 0s 4ms/step - loss: 0.1215 - accuracy: 0.9545 - val_loss: 0.1182 - val_accuracy: 0.9542\n",
      "epoch 33\n",
      "74/74 [==============================] - 0s 4ms/step - loss: 0.1157 - accuracy: 0.9565 - val_loss: 0.1166 - val_accuracy: 0.9561\n",
      "epoch 34\n",
      "74/74 [==============================] - 0s 4ms/step - loss: 0.1189 - accuracy: 0.9565 - val_loss: 0.1469 - val_accuracy: 0.9485\n",
      "epoch 35\n",
      "74/74 [==============================] - 0s 4ms/step - loss: 0.1147 - accuracy: 0.9556 - val_loss: 0.1232 - val_accuracy: 0.9561\n",
      "epoch 36\n",
      "74/74 [==============================] - 0s 4ms/step - loss: 0.1121 - accuracy: 0.9577 - val_loss: 0.1151 - val_accuracy: 0.9580\n",
      "epoch 37\n",
      "74/74 [==============================] - 0s 4ms/step - loss: 0.1087 - accuracy: 0.9577 - val_loss: 0.1184 - val_accuracy: 0.9485\n",
      "epoch 38\n",
      "74/74 [==============================] - 0s 4ms/step - loss: 0.1131 - accuracy: 0.9569 - val_loss: 0.1776 - val_accuracy: 0.9198\n",
      "epoch 39\n",
      "74/74 [==============================] - 0s 4ms/step - loss: 0.1288 - accuracy: 0.9516 - val_loss: 0.1754 - val_accuracy: 0.9447\n",
      "epoch 40\n",
      "74/74 [==============================] - 0s 4ms/step - loss: 0.1094 - accuracy: 0.9586 - val_loss: 0.1811 - val_accuracy: 0.9485\n",
      "epoch 41\n",
      "74/74 [==============================] - 0s 4ms/step - loss: 0.1154 - accuracy: 0.9545 - val_loss: 0.1154 - val_accuracy: 0.9580\n",
      "epoch 42\n",
      "74/74 [==============================] - 0s 4ms/step - loss: 0.1063 - accuracy: 0.9590 - val_loss: 0.1191 - val_accuracy: 0.9580\n",
      "epoch 43\n",
      "74/74 [==============================] - 0s 4ms/step - loss: 0.1073 - accuracy: 0.9571 - val_loss: 0.1330 - val_accuracy: 0.9408\n",
      "epoch 44\n",
      "74/74 [==============================] - 0s 4ms/step - loss: 0.1162 - accuracy: 0.9545 - val_loss: 0.1408 - val_accuracy: 0.9351\n",
      "epoch 45\n",
      "74/74 [==============================] - 0s 4ms/step - loss: 0.1086 - accuracy: 0.9607 - val_loss: 0.1162 - val_accuracy: 0.9561\n",
      "epoch 46\n",
      "74/74 [==============================] - 0s 4ms/step - loss: 0.1128 - accuracy: 0.9562 - val_loss: 0.1127 - val_accuracy: 0.9561\n",
      "epoch 47\n",
      "74/74 [==============================] - 0s 4ms/step - loss: 0.1072 - accuracy: 0.9592 - val_loss: 0.1348 - val_accuracy: 0.9504\n",
      "epoch 48\n",
      "74/74 [==============================] - 0s 4ms/step - loss: 0.1062 - accuracy: 0.9605 - val_loss: 0.1153 - val_accuracy: 0.9542\n",
      "epoch 49\n",
      "74/74 [==============================] - 0s 4ms/step - loss: 0.1168 - accuracy: 0.9565 - val_loss: 0.1159 - val_accuracy: 0.9561\n",
      "epoch 50\n",
      "74/74 [==============================] - 0s 4ms/step - loss: 0.1033 - accuracy: 0.9599 - val_loss: 0.1230 - val_accuracy: 0.9523\n",
      "epoch 51\n",
      "74/74 [==============================] - 0s 4ms/step - loss: 0.1077 - accuracy: 0.9603 - val_loss: 0.1192 - val_accuracy: 0.9580\n",
      "epoch 52\n",
      "74/74 [==============================] - 0s 4ms/step - loss: 0.1002 - accuracy: 0.9613 - val_loss: 0.1520 - val_accuracy: 0.9523\n",
      "epoch 53\n",
      "74/74 [==============================] - 0s 4ms/step - loss: 0.1005 - accuracy: 0.9609 - val_loss: 0.1155 - val_accuracy: 0.9561\n",
      "epoch 54\n",
      "74/74 [==============================] - 0s 4ms/step - loss: 0.1062 - accuracy: 0.9596 - val_loss: 0.1174 - val_accuracy: 0.9580\n",
      "epoch 55\n",
      "74/74 [==============================] - 0s 4ms/step - loss: 0.1037 - accuracy: 0.9618 - val_loss: 0.1433 - val_accuracy: 0.9351\n",
      "epoch 56\n",
      "74/74 [==============================] - 0s 4ms/step - loss: 0.1096 - accuracy: 0.9586 - val_loss: 0.1492 - val_accuracy: 0.9504\n",
      "epoch 57\n",
      "74/74 [==============================] - 0s 4ms/step - loss: 0.1063 - accuracy: 0.9588 - val_loss: 0.1429 - val_accuracy: 0.9351\n",
      "epoch 58\n",
      "74/74 [==============================] - 0s 4ms/step - loss: 0.1101 - accuracy: 0.9567 - val_loss: 0.1442 - val_accuracy: 0.9389\n",
      "epoch 59\n"
     ]
    },
    {
     "name": "stdout",
     "output_type": "stream",
     "text": [
      "74/74 [==============================] - 0s 4ms/step - loss: 0.0987 - accuracy: 0.9607 - val_loss: 0.1098 - val_accuracy: 0.9599\n",
      "epoch 60\n",
      "74/74 [==============================] - 0s 3ms/step - loss: 0.0984 - accuracy: 0.9611 - val_loss: 0.1421 - val_accuracy: 0.9370\n",
      "epoch 61\n",
      "74/74 [==============================] - 0s 4ms/step - loss: 0.0985 - accuracy: 0.9596 - val_loss: 0.1100 - val_accuracy: 0.9542\n",
      "epoch 62\n",
      "74/74 [==============================] - 0s 4ms/step - loss: 0.0922 - accuracy: 0.9622 - val_loss: 0.1167 - val_accuracy: 0.9523\n",
      "epoch 63\n",
      "74/74 [==============================] - 0s 4ms/step - loss: 0.1020 - accuracy: 0.9601 - val_loss: 0.1795 - val_accuracy: 0.9275\n",
      "epoch 64\n",
      "74/74 [==============================] - 0s 4ms/step - loss: 0.1121 - accuracy: 0.9569 - val_loss: 0.1431 - val_accuracy: 0.9485\n",
      "epoch 65\n",
      "74/74 [==============================] - 0s 4ms/step - loss: 0.1000 - accuracy: 0.9592 - val_loss: 0.1618 - val_accuracy: 0.9179\n",
      "epoch 66\n",
      "74/74 [==============================] - 0s 4ms/step - loss: 0.1014 - accuracy: 0.9609 - val_loss: 0.1113 - val_accuracy: 0.9580\n",
      "epoch 67\n",
      "74/74 [==============================] - 0s 4ms/step - loss: 0.1009 - accuracy: 0.9622 - val_loss: 0.1137 - val_accuracy: 0.9561\n",
      "epoch 68\n",
      "74/74 [==============================] - 0s 4ms/step - loss: 0.0912 - accuracy: 0.9664 - val_loss: 0.1128 - val_accuracy: 0.9580\n",
      "epoch 69\n",
      "74/74 [==============================] - 0s 4ms/step - loss: 0.0911 - accuracy: 0.9611 - val_loss: 0.1151 - val_accuracy: 0.9580\n",
      "epoch 70\n",
      "74/74 [==============================] - 0s 4ms/step - loss: 0.1071 - accuracy: 0.9582 - val_loss: 0.1321 - val_accuracy: 0.9542\n",
      "epoch 71\n",
      "74/74 [==============================] - 0s 4ms/step - loss: 0.0932 - accuracy: 0.9643 - val_loss: 0.1119 - val_accuracy: 0.9561\n",
      "epoch 72\n",
      "74/74 [==============================] - 0s 4ms/step - loss: 0.0887 - accuracy: 0.9652 - val_loss: 0.1058 - val_accuracy: 0.9580\n",
      "epoch 73\n",
      "74/74 [==============================] - 0s 4ms/step - loss: 0.0977 - accuracy: 0.9605 - val_loss: 0.1105 - val_accuracy: 0.9504\n",
      "epoch 74\n",
      "74/74 [==============================] - 0s 4ms/step - loss: 0.1080 - accuracy: 0.9545 - val_loss: 0.1165 - val_accuracy: 0.9561\n",
      "epoch 75\n",
      "74/74 [==============================] - 0s 4ms/step - loss: 0.0867 - accuracy: 0.9679 - val_loss: 0.1117 - val_accuracy: 0.9580\n",
      "epoch 76\n",
      "74/74 [==============================] - 0s 4ms/step - loss: 0.0929 - accuracy: 0.9637 - val_loss: 0.1157 - val_accuracy: 0.9504\n",
      "epoch 77\n",
      "74/74 [==============================] - 0s 4ms/step - loss: 0.1035 - accuracy: 0.9590 - val_loss: 0.1109 - val_accuracy: 0.9561\n",
      "epoch 78\n",
      "74/74 [==============================] - 0s 4ms/step - loss: 0.0931 - accuracy: 0.9647 - val_loss: 0.1055 - val_accuracy: 0.9580\n",
      "epoch 79\n",
      "74/74 [==============================] - 0s 4ms/step - loss: 0.0811 - accuracy: 0.9694 - val_loss: 0.1245 - val_accuracy: 0.9485\n",
      "epoch 80\n",
      "74/74 [==============================] - 0s 3ms/step - loss: 0.0970 - accuracy: 0.9633 - val_loss: 0.1589 - val_accuracy: 0.9466\n",
      "epoch 81\n",
      "74/74 [==============================] - 0s 4ms/step - loss: 0.0912 - accuracy: 0.9662 - val_loss: 0.1362 - val_accuracy: 0.9523\n",
      "epoch 82\n",
      "74/74 [==============================] - 0s 4ms/step - loss: 0.0942 - accuracy: 0.9639 - val_loss: 0.1016 - val_accuracy: 0.9580\n",
      "epoch 83\n",
      "74/74 [==============================] - 0s 4ms/step - loss: 0.0927 - accuracy: 0.9639 - val_loss: 0.1402 - val_accuracy: 0.9485\n",
      "epoch 84\n",
      "74/74 [==============================] - 0s 4ms/step - loss: 0.0884 - accuracy: 0.9669 - val_loss: 0.1210 - val_accuracy: 0.9561\n",
      "epoch 85\n",
      "74/74 [==============================] - 0s 4ms/step - loss: 0.1012 - accuracy: 0.9628 - val_loss: 0.1224 - val_accuracy: 0.9542\n",
      "epoch 86\n",
      "74/74 [==============================] - 0s 4ms/step - loss: 0.0909 - accuracy: 0.9654 - val_loss: 0.1130 - val_accuracy: 0.9523\n",
      "epoch 87\n",
      "74/74 [==============================] - 0s 4ms/step - loss: 0.0845 - accuracy: 0.9705 - val_loss: 0.1097 - val_accuracy: 0.9523\n",
      "epoch 88\n",
      "74/74 [==============================] - 0s 4ms/step - loss: 0.0824 - accuracy: 0.9698 - val_loss: 0.1183 - val_accuracy: 0.9485\n",
      "epoch 89\n",
      "74/74 [==============================] - 0s 4ms/step - loss: 0.0995 - accuracy: 0.9618 - val_loss: 0.1663 - val_accuracy: 0.9485\n",
      "epoch 90\n",
      "74/74 [==============================] - 0s 4ms/step - loss: 0.0867 - accuracy: 0.9694 - val_loss: 0.1181 - val_accuracy: 0.9542\n",
      "epoch 91\n",
      "74/74 [==============================] - 0s 4ms/step - loss: 0.0810 - accuracy: 0.9711 - val_loss: 0.1084 - val_accuracy: 0.9561\n",
      "epoch 92\n",
      "74/74 [==============================] - 0s 4ms/step - loss: 0.0909 - accuracy: 0.9650 - val_loss: 0.1597 - val_accuracy: 0.9466\n",
      "epoch 93\n",
      "74/74 [==============================] - 0s 3ms/step - loss: 0.1027 - accuracy: 0.9616 - val_loss: 0.1308 - val_accuracy: 0.9485\n",
      "epoch 94\n",
      "74/74 [==============================] - 0s 4ms/step - loss: 0.0831 - accuracy: 0.9690 - val_loss: 0.0939 - val_accuracy: 0.9599\n",
      "epoch 95\n",
      "74/74 [==============================] - 0s 4ms/step - loss: 0.1010 - accuracy: 0.9645 - val_loss: 0.1021 - val_accuracy: 0.9618\n",
      "epoch 96\n",
      "74/74 [==============================] - 0s 4ms/step - loss: 0.0828 - accuracy: 0.9703 - val_loss: 0.1152 - val_accuracy: 0.9523\n",
      "epoch 97\n",
      "74/74 [==============================] - 0s 4ms/step - loss: 0.0866 - accuracy: 0.9692 - val_loss: 0.1311 - val_accuracy: 0.9504\n",
      "epoch 98\n",
      "74/74 [==============================] - 0s 4ms/step - loss: 0.0847 - accuracy: 0.9660 - val_loss: 0.1133 - val_accuracy: 0.9542\n",
      "epoch 99\n",
      "74/74 [==============================] - 0s 4ms/step - loss: 0.0795 - accuracy: 0.9698 - val_loss: 0.1251 - val_accuracy: 0.9485\n"
     ]
    }
   ],
   "source": [
    "for epoch in range(0, 100):   \n",
    "    print('epoch', epoch)\n",
    "    #set epochs=1\n",
    "    history=model.fit(x_train, y_train, batch_size=64, epochs=1, validation_data=(x_val, y_val))\n",
    "    loss_train_list.extend(history.history['loss'])\n",
    "    loss_val_list.extend(history.history['val_loss'])\n",
    "    acc_train_list.extend(history.history['accuracy'])\n",
    "    acc_val_list.extend(history.history['val_accuracy'])\n",
    "    #save the model to a keras file \n",
    "    model.save('NN_binary_classification_Keras_e'+str(epoch)+'.keras')"
   ]
  },
  {
   "cell_type": "markdown",
   "metadata": {},
   "source": [
    "### Plot training histroy: loss vs epoch and accuracy vs epoch"
   ]
  },
  {
   "cell_type": "code",
   "execution_count": 19,
   "metadata": {},
   "outputs": [
    {
     "data": {
      "text/plain": [
       "dict_keys(['loss', 'accuracy', 'val_loss', 'val_accuracy'])"
      ]
     },
     "execution_count": 19,
     "metadata": {},
     "output_type": "execute_result"
    }
   ],
   "source": [
    "history.history.keys()"
   ]
  },
  {
   "cell_type": "code",
   "execution_count": 20,
   "metadata": {},
   "outputs": [
    {
     "data": {
      "image/png": "[encoded data removed]",
      "text/plain": [
       "<Figure size 1200x600 with 2 Axes>"
      ]
     },
     "metadata": {},
     "output_type": "display_data"
    }
   ],
   "source": [
    "fig, ax = plt.subplots(1, 2, figsize=(12,6))\n",
    "ax[0].plot(np.arange(0,len(loss_train_list)), loss_train_list, '-b', label='training loss')\n",
    "ax[0].plot(np.arange(0,len(loss_val_list)), loss_val_list, '-r', label='validation loss')\n",
    "ax[0].set_xlabel('epoch',fontsize=16)\n",
    "ax[0].legend(fontsize=16)\n",
    "ax[0].grid(True)\n",
    "ax[1].plot(np.arange(0,len(acc_train_list)), acc_train_list, '-b', label='training accuracy')\n",
    "ax[1].plot(np.arange(0,len(acc_val_list)), acc_val_list, '-r', label='validation accuracy')\n",
    "ax[1].set_xlabel('epoch',fontsize=16)\n",
    "ax[1].legend(fontsize=16)\n",
    "ax[1].grid(True)"
   ]
  },
  {
   "cell_type": "markdown",
   "metadata": {},
   "source": [
    "after training, we load the best model"
   ]
  },
  {
   "cell_type": "code",
   "execution_count": 21,
   "metadata": {},
   "outputs": [
    {
     "data": {
      "text/plain": [
       "95"
      ]
     },
     "execution_count": 21,
     "metadata": {},
     "output_type": "execute_result"
    }
   ],
   "source": [
    "best_idx= np.argmax(acc_val_list)\n",
    "best_idx"
   ]
  },
  {
   "cell_type": "code",
   "execution_count": 23,
   "metadata": {},
   "outputs": [],
   "source": [
    "from tensorflow.keras.models import load_model\n",
    "model = load_model('NN_binary_classification_Keras_e'+str(best_idx)+'.keras')"
   ]
  },
  {
   "cell_type": "markdown",
   "metadata": {},
   "source": [
    "### Test the model"
   ]
  },
  {
   "cell_type": "code",
   "execution_count": 24,
   "metadata": {},
   "outputs": [
    {
     "name": "stdout",
     "output_type": "stream",
     "text": [
      "Test loss: 0.49270814657211304\n",
      "Test accuracy: 0.8461538553237915\n"
     ]
    }
   ],
   "source": [
    "score = model.evaluate(x_test, y_test, batch_size=64, verbose=0)\n",
    "print('Test loss:', score[0])\n",
    "print('Test accuracy:', score[1])"
   ]
  },
  {
   "cell_type": "markdown",
   "metadata": {},
   "source": [
    "### Make Prediction on the test set"
   ]
  },
  {
   "cell_type": "code",
   "execution_count": 25,
   "metadata": {},
   "outputs": [
    {
     "name": "stdout",
     "output_type": "stream",
     "text": [
      "10/10 [==============================] - 0s 1ms/step\n"
     ]
    }
   ],
   "source": [
    "y_test_pred=model.predict(x_test, batch_size=64)"
   ]
  },
  {
   "cell_type": "code",
   "execution_count": 26,
   "metadata": {},
   "outputs": [
    {
     "data": {
      "text/plain": [
       "<matplotlib.image.AxesImage at 0x29d9a1549d0>"
      ]
     },
     "execution_count": 26,
     "metadata": {},
     "output_type": "execute_result"
    },
    {
     "data": {
      "image/png": "[encoded data removed]",
      "text/plain": [
       "<Figure size 640x480 with 1 Axes>"
      ]
     },
     "metadata": {},
     "output_type": "display_data"
    }
   ],
   "source": [
    "#the first image in the test set\n",
    "plt.imshow(x_test[0].reshape(28,28), cmap='gray')"
   ]
  },
  {
   "cell_type": "code",
   "execution_count": 28,
   "metadata": {},
   "outputs": [
    {
     "data": {
      "text/plain": [
       "array([0.9991143], dtype=float32)"
      ]
     },
     "execution_count": 28,
     "metadata": {},
     "output_type": "execute_result"
    }
   ],
   "source": [
    "#prediction\n",
    "y_test_pred[0]"
   ]
  },
  {
   "cell_type": "code",
   "execution_count": 27,
   "metadata": {},
   "outputs": [
    {
     "data": {
      "text/plain": [
       "1.0"
      ]
     },
     "execution_count": 27,
     "metadata": {},
     "output_type": "execute_result"
    }
   ],
   "source": [
    "#ground truth\n",
    "y_test[0]"
   ]
  }
 ],
 "metadata": {
  "kernelspec": {
   "display_name": "Python 3 (ipykernel)",
   "language": "python",
   "name": "python3"
  },
  "language_info": {
   "codemirror_mode": {
    "name": "ipython",
    "version": 3
   },
   "file_extension": ".py",
   "mimetype": "text/x-python",
   "name": "python",
   "nbconvert_exporter": "python",
   "pygments_lexer": "ipython3",
   "version": "3.11.5"
  }
 },
 "nbformat": 4,
 "nbformat_minor": 2
}
